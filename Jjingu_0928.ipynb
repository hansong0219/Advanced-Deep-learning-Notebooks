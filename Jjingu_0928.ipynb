{
  "nbformat": 4,
  "nbformat_minor": 0,
  "metadata": {
    "colab": {
      "name": "Jjingu_0928.ipynb",
      "provenance": [],
      "authorship_tag": "ABX9TyMu5x3J9g7jUU1zMOaQjvmP",
      "include_colab_link": true
    },
    "kernelspec": {
      "name": "python3",
      "display_name": "Python 3"
    }
  },
  "cells": [
    {
      "cell_type": "markdown",
      "metadata": {
        "id": "view-in-github",
        "colab_type": "text"
      },
      "source": [
        "<a href=\"https://colab.research.google.com/github/hansong0219/Advanced_Deep_Learning/blob/master/Jjingu_0928.ipynb\" target=\"_parent\"><img src=\"https://colab.research.google.com/assets/colab-badge.svg\" alt=\"Open In Colab\"/></a>"
      ]
    },
    {
      "cell_type": "code",
      "metadata": {
        "id": "IWP2q-VR79AD",
        "colab_type": "code",
        "colab": {}
      },
      "source": [
        "# 찐구 0928 문제풀이\n",
        "import numpy as np"
      ],
      "execution_count": 1,
      "outputs": []
    },
    {
      "cell_type": "code",
      "metadata": {
        "id": "KiCgBdiD8dgg",
        "colab_type": "code",
        "colab": {}
      },
      "source": [
        "def function_0928(array):\n",
        "    print(round(np.average(array),0))\n",
        "    array = np.round(array)\n",
        "    sum = np.sum(array)\n",
        "    print(np.round(np.average(array),0))"
      ],
      "execution_count": 2,
      "outputs": []
    },
    {
      "cell_type": "code",
      "metadata": {
        "id": "vsbhMc-09Sef",
        "colab_type": "code",
        "colab": {
          "base_uri": "https://localhost:8080/",
          "height": 71
        },
        "outputId": "090bd1b9-1e9c-4a31-f161-0a9060b23b38"
      },
      "source": [
        "mylist = list(map(float ,input().split(\" \")))\n",
        "array = np.array(mylist)\n",
        "\n",
        "function_0928(array)"
      ],
      "execution_count": 3,
      "outputs": [
        {
          "output_type": "stream",
          "text": [
            "153.74 34.59 109.5\n",
            "99.0\n",
            "100.0\n"
          ],
          "name": "stdout"
        }
      ]
    },
    {
      "cell_type": "code",
      "metadata": {
        "id": "-oZd6NJP9UhF",
        "colab_type": "code",
        "colab": {}
      },
      "source": [
        ""
      ],
      "execution_count": null,
      "outputs": []
    }
  ]
}