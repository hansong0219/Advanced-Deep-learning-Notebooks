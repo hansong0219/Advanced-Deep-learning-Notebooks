{
  "nbformat": 4,
  "nbformat_minor": 0,
  "metadata": {
    "colab": {
      "name": "DCGAN.ipynb",
      "provenance": [],
      "authorship_tag": "ABX9TyOT/DHhkqDV8phrTz31eNDG",
      "include_colab_link": true
    },
    "kernelspec": {
      "name": "python3",
      "display_name": "Python 3"
    }
  },
  "cells": [
    {
      "cell_type": "markdown",
      "metadata": {
        "id": "view-in-github",
        "colab_type": "text"
      },
      "source": [
        "<a href=\"https://colab.research.google.com/github/hansong0219/Advanced-DeepLearning-Study/blob/master/GAN/DCGAN.ipynb\" target=\"_parent\"><img src=\"https://colab.research.google.com/assets/colab-badge.svg\" alt=\"Open In Colab\"/></a>"
      ]
    },
    {
      "cell_type": "markdown",
      "metadata": {
        "id": "JrgrAucLW8_q"
      },
      "source": [
        "DCGAN\n",
        "----\n",
        "DCGAN 은 초기 심층 CNN 을 이용해 GAN 을 성공적으로 구현한 사례중 하나로, 다음과 같은 설계 원칙을 가지고 있다.\n",
        "\n",
        "- MaxPooling2D 나 UpSampling2D 대신 stride>1 인 합성곱을 사용한다. stride 가 >1 일 경우, CNN 은 특징 맵 크기를 조정하는 방법을 학습하게 된다.\n",
        "\n",
        "- Dense 계층의 사용을 피한다. 모든 계층에서 CNN 을 사용하도록 하며, Dense 계층은 생성기의 첫 번째 계층에서만 Z-vector 를 받기위해 사용된다. Dense 계층의 출력 크기는 조정되어 뒤따라 나오는 CNN 계층의 입력이 된다.\n",
        "\n",
        "- 각 계층의 입력이 평균 0 에 단위 분산을 가져서 학습을 안정화 시키도록 Batch Normaliztion 을 사용한다. 생성기 출력 계층과 판별기 입력 계층에는 Batch Normalization을 사용하지 않는다.\n",
        "\n",
        "- Rectitfied Linear Unit, ReLU 는 tanh 활성화 함수를 사용하는 출력 계층을 제외하고 생성기 전 층에서 사용된다. 아래에서는 tanh 대신 sigmoid 가 사용되는데, 일반적으로 MNIST 숫자에 대해 더 안정적으로 훈련시킬 수 있기 때문이다.\n",
        "\n",
        "- 판별기의 전 계층에서 Leaky ReLU 를 사용한다. "
      ]
    },
    {
      "cell_type": "code",
      "metadata": {
        "id": "-Ke_xgxBW5Wl"
      },
      "source": [
        "from __future__ import absolute_import\n",
        "from __future__ import division\n",
        "from __future__ import print_function\n",
        "\n",
        "from tensorflow.keras.layers import Activation, Dense, Input\n",
        "from tensorflow.keras.layers import Conv2D, Flatten\n",
        "from tensorflow.keras.layers import Reshape, Conv2DTranspose\n",
        "from tensorflow.keras.layers import LeakyReLU\n",
        "from tensorflow.keras.layers import BatchNormalization\n",
        "from tensorflow.keras.optimizers import RMSprop\n",
        "from tensorflow.keras.models import Model\n",
        "from tensorflow.keras.datasets import mnist\n",
        "from tensorflow.keras.models import load_model\n",
        "\n",
        "import numpy as np\n",
        "import math\n",
        "import matplotlib.pyplot as plt\n",
        "import os"
      ],
      "execution_count": 1,
      "outputs": []
    },
    {
      "cell_type": "markdown",
      "metadata": {
        "id": "90c6Kh_WeJRT"
      },
      "source": [
        "모델 Build 를 위한 함수\n",
        "-----"
      ]
    },
    {
      "cell_type": "markdown",
      "metadata": {
        "id": "S6PMI00PeQth"
      },
      "source": [
        "## 생성자 "
      ]
    },
    {
      "cell_type": "code",
      "metadata": {
        "id": "Fv_CbRR8eGI1"
      },
      "source": [
        ""
      ],
      "execution_count": null,
      "outputs": []
    },
    {
      "cell_type": "markdown",
      "metadata": {
        "id": "krQbbFgSeY8n"
      },
      "source": [
        "## 판별자"
      ]
    },
    {
      "cell_type": "code",
      "metadata": {
        "id": "jMPJMeqpeaTZ"
      },
      "source": [
        ""
      ],
      "execution_count": null,
      "outputs": []
    }
  ]
}