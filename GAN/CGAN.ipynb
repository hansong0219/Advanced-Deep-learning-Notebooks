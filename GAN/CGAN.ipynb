{
  "nbformat": 4,
  "nbformat_minor": 0,
  "metadata": {
    "colab": {
      "name": "CGAN.ipynb",
      "provenance": [],
      "authorship_tag": "ABX9TyOMM79bYCfdhGg71oG/pm06",
      "include_colab_link": true
    },
    "kernelspec": {
      "name": "python3",
      "display_name": "Python 3"
    }
  },
  "cells": [
    {
      "cell_type": "markdown",
      "metadata": {
        "id": "view-in-github",
        "colab_type": "text"
      },
      "source": [
        "<a href=\"https://colab.research.google.com/github/hansong0219/Advanced-DeepLearning-Study/blob/master/GAN/CGAN.ipynb\" target=\"_parent\"><img src=\"https://colab.research.google.com/assets/colab-badge.svg\" alt=\"Open In Colab\"/></a>"
      ]
    },
    {
      "cell_type": "markdown",
      "metadata": {
        "id": "crSSsf6DhooD"
      },
      "source": [
        "# Conditional GAN\n",
        "\n",
        "DCGAN 에서는 이미지가 임의로 생성되며, 생성기에서 어떤 숫자를 생성할지는 제어할 수 없다. 이 문제를 원-핫 벡터를 추가로 입력을 받는 것으로 해결한 것이 바로 Conditional GAN (CGAN) 이다. \n",
        "\n",
        "동일한 GAN의 구조를 사용하면서도 생성기에서 원-핫 벡터를 추가로 받고 새로운 Dense 계층을 추가해 잠재벡터와 연결된다. 또, 판별기에서는 새로운 Dense 계층이 추가된다. 이 새로운 게층은 원-핫 벡터를 처리하고 뒤따라나오는 CNN 계층의 다른 입력과 연결하기에 적합한 형상으로 변경하기 위해 사용된다.\n",
        "\n",
        "생성기는 100차원 입력 벡터와 특정 숫자로 부터 가짜 이미지를 생성하는 것을 학습하며, 판별기는 진짜와 가짜 이미지, 그리고 그에 대응하는 레이블을 기반으로 진짜와 가짜 이미지를 분류한다.\n",
        "\n",
        "CGAN 의 기본 원리는 GAN 과 동일하지만,  판별기와 생성기 입력에 원-핫 레이블 y 라는 조건이 부여된다는 점이 다르다.\n",
        "\n",
        "판별기와 생성기는 아래와 같이 구성된다."
      ]
    },
    {
      "cell_type": "markdown",
      "metadata": {
        "id": "_rRsc_y_jBkE"
      },
      "source": [
        "# 판별기 모델 구성 함수 정의"
      ]
    },
    {
      "cell_type": "code",
      "metadata": {
        "id": "5KE5n2_zhmUf"
      },
      "source": [
        "def build_discriminator(inputs, y_labels, image_size):"
      ],
      "execution_count": null,
      "outputs": []
    },
    {
      "cell_type": "markdown",
      "metadata": {
        "id": "V_LAOe2ZjGFP"
      },
      "source": [
        "# 생성기 모델 구성 함수 정의"
      ]
    },
    {
      "cell_type": "code",
      "metadata": {
        "id": "vl6KSCnjjIMi"
      },
      "source": [
        ""
      ],
      "execution_count": null,
      "outputs": []
    }
  ]
}