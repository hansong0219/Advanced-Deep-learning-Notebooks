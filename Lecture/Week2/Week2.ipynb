{
  "nbformat": 4,
  "nbformat_minor": 0,
  "metadata": {
    "colab": {
      "provenance": [],
      "authorship_tag": "ABX9TyN8SpYMtBOn1I25N7ZAQ8yn",
      "include_colab_link": true
    },
    "kernelspec": {
      "name": "python3",
      "display_name": "Python 3"
    },
    "language_info": {
      "name": "python"
    }
  },
  "cells": [
    {
      "cell_type": "markdown",
      "metadata": {
        "id": "view-in-github",
        "colab_type": "text"
      },
      "source": [
        "<a href=\"https://colab.research.google.com/github/hansong0219/Advanced-Deep-learning-Notebooks/blob/master/Lecture/Week2/Week2.ipynb\" target=\"_parent\"><img src=\"https://colab.research.google.com/assets/colab-badge.svg\" alt=\"Open In Colab\"/></a>"
      ]
    },
    {
      "cell_type": "markdown",
      "source": [
        "#PyPE Boy 2-3 주차 수업 자료"
      ],
      "metadata": {
        "id": "s3QfBwMSkd40"
      }
    },
    {
      "cell_type": "markdown",
      "source": [
        "## 1.Data Type 의 변경, 문자열에 대한 이해, 수치형 데이터의 처리\n",
        "- Data Type 의 변경은 Data 를 적절한 형태로 처리하기 위해 필수적으로 사용하여야 한다. "
      ],
      "metadata": {
        "id": "6IYv5zqltBiE"
      }
    },
    {
      "cell_type": "code",
      "execution_count": 1,
      "metadata": {
        "colab": {
          "base_uri": "https://localhost:8080/"
        },
        "id": "VV6WhNyxkaX3",
        "outputId": "e460b59f-6222-491b-dc9c-1f7549b62150"
      },
      "outputs": [
        {
          "output_type": "stream",
          "name": "stdout",
          "text": [
            "<class 'int'>\n",
            "<class 'str'>\n",
            "<class 'int'>\n"
          ]
        }
      ],
      "source": [
        "# 숫자 --> 문자열 변경\n",
        "number = 2 #숫자 변수 지정\n",
        "print(type(number))\n",
        "\n",
        "string = str(number) #문자열로 변경\n",
        "print(type(string))\n",
        "\n",
        "num = int(string) #다시 숫자로 변경\n",
        "print(type(num))"
      ]
    },
    {
      "cell_type": "code",
      "source": [
        "#문자열의 길이 확인하고 특정 요소 출력하기\n",
        "long_name = '플래닛-김찬양'\n",
        "print('문자열의 길이 확인 :', len(long_name))\n",
        "print('맨 처음 글자 추출 :', long_name[0])\n",
        "\n",
        "#특정 기호로 문자열 나누기\n",
        "organ, name = long_name.split('-')\n",
        "print(\"조직, 이름:\", organ, name)\n",
        "print(\"성씨 :\",name[0]) #성씨를 추출한다.\n",
        "\n",
        "name_blind = name[0] + 'XX'\n",
        "print(\"가려진 이름 추출 :\", name_blind)\n",
        "\n",
        "#Python의 문자열 표기법 특징 \n",
        "\"\"\"\n",
        "문자열의 경우 곱하기를 하면, 그 숫자만큼 반복된다\n",
        "\"\"\"\n",
        "print(\"성씨 5번 추출 :\", name[0]*5)\n",
        "print(\"이름 3번 추출 :\", name*3)\n",
        "\n",
        "#대문자 및 소문자 변경\n",
        "eng = 'PyPE BOY'\n",
        "eng = eng[0].lower()+eng[1:]\n",
        "print('대문자를 소문자로 변경 :', eng)\n",
        "eng = eng[0].upper()+eng[1:]\n",
        "print('다시 소문자를 대문자로 변경 :', eng)"
      ],
      "metadata": {
        "colab": {
          "base_uri": "https://localhost:8080/"
        },
        "id": "Aq548wRFk-eg",
        "outputId": "577816e3-529e-4ab0-c4dc-8c2bba00b127"
      },
      "execution_count": 2,
      "outputs": [
        {
          "output_type": "stream",
          "name": "stdout",
          "text": [
            "문자열의 길이 확인 : 7\n",
            "맨 처음 글자 추출 : 플\n",
            "조직, 이름: 플래닛 김찬양\n",
            "성씨 : 김\n",
            "가려진 이름 추출 : 김XX\n",
            "성씨 5번 추출 : 김김김김김\n",
            "이름 3번 추출 : 김찬양김찬양김찬양\n",
            "대문자를 소문자로 변경 : pyPE BOY\n",
            "다시 소문자를 대문자로 변경 : PyPE BOY\n"
          ]
        }
      ]
    },
    {
      "cell_type": "markdown",
      "source": [
        "### 숙제 Week 2) \n",
        "- 2-1: https://www.acmicpc.net/problem/2743\n",
        "- 2-2: https://www.acmicpc.net/problem/27866"
      ],
      "metadata": {
        "id": "ZGiYP9aqvbGA"
      }
    },
    {
      "cell_type": "markdown",
      "source": [
        "### 프로그래밍 예제 : 전화번호 가리기\n"
      ],
      "metadata": {
        "id": "dmEDYSxmmXqZ"
      }
    },
    {
      "cell_type": "code",
      "source": [
        "# 입력된 전화번호를 받아 가운데 부분을 XXXX 로 출력한다. \n",
        "phone_number = '010-1234-5678' #전화번호를 입력 받는다\n",
        "\n",
        "#문자열 자체에서 처리하는경우\n",
        "phone_number_x = phone_number[:4] + 'XXXX' + phone_number[-5:]\n",
        "print(\"문자열 Data 추출을 이용한 답:\",phone_number_x)\n",
        "\n",
        "#Split 을 사용하여 일부를 변경하여 사용하는 경우\n",
        "phone_number_list = phone_number.split('-') #전화번호의 일부를 받는다.\n",
        "phone_number_list[1]='XXXX' #두번쨰 전화번호의 Data를 XXXX로 변경한다.\n",
        "\n",
        "phone_number_re = phone_number_list[0] + '-' + phone_number_list[1] + '-' + phone_number_list[2]\n",
        "print(\"Split을 사용하여 변경한 답:\",phone_number_re)\n",
        "print(\"원본 전화 번호:\",phone_number) #복사하여 새로 지정하였기 때문에 데이터가 유지됨"
      ],
      "metadata": {
        "colab": {
          "base_uri": "https://localhost:8080/"
        },
        "id": "03W9PQUwlx9d",
        "outputId": "04bc64e4-2d82-4bf7-9f8b-fd44e4e84f63"
      },
      "execution_count": 3,
      "outputs": [
        {
          "output_type": "stream",
          "name": "stdout",
          "text": [
            "문자열 Data 추출을 이용한 답: 010-XXXX-5678\n",
            "Split을 사용하여 변경한 답: 010-XXXX-5678\n",
            "원본 전화 번호: 010-1234-5678\n"
          ]
        }
      ]
    },
    {
      "cell_type": "markdown",
      "source": [
        "## 2. For Loop 와 if 문\n",
        "  - 특정횟수만큼 반복이 필요한 경우 모든 프로그래밍 언어에서 for 문을 사용한다.\n",
        "  - if 문의 경우, 반복문과 함께 자주 사용되므로 사용법을 함께 익힌다. "
      ],
      "metadata": {
        "id": "ZwJ4yh_Ks9xY"
      }
    },
    {
      "cell_type": "code",
      "source": [
        "#For 문의 작성 법\n",
        "\n",
        "#기본 작성법\n",
        "for i in range(21):\n",
        "  #print의 방식은 end 값의 default 가 end = '\\n' 으로 이루어져 있어서 다음줄에 출력 되지만 해당 챕터에서는 띄어쓰기로 한줄에 추출한다.\n",
        "    print(i, end = ' ') "
      ],
      "metadata": {
        "id": "kI3ED51sii4Y",
        "outputId": "a2183cf0-e8bf-499e-fdf9-7648d857e787",
        "colab": {
          "base_uri": "https://localhost:8080/"
        }
      },
      "execution_count": 4,
      "outputs": [
        {
          "output_type": "stream",
          "name": "stdout",
          "text": [
            "0 1 2 3 4 5 6 7 8 9 10 11 12 13 14 15 16 17 18 19 20 "
          ]
        }
      ]
    },
    {
      "cell_type": "code",
      "source": [
        "# If 문의 작성법과 조건문\n",
        "name = '유찬양'\n",
        "\n",
        "# = 하나가 붙으면 지정, == 등호가 두개가 붙으면 비교 연산자가 된다.\n",
        "\n",
        "\n",
        "print(\"-----예제 1번-----\")\n",
        "if name[0] == '유':\n",
        "  print('유씨 입니다.')\n",
        "\n",
        "else:\n",
        "  print('유씨가 아닙니다.')\n",
        "\n",
        "# elif 를 사용한 if문\n",
        "\n",
        "print(\"\\n-----예제 2번-----\")\n",
        "name = '송한성'\n",
        "if name[0] == '유':\n",
        "  print('유씨 입니다.')\n",
        "  \n",
        "elif name[0] == '송': #elif >> else if 를 줄인말.\n",
        "  print('유씨가 아니라 송씨입니다.')\n",
        "\n",
        "else:\n",
        "  print('유씨도 송씨도 아닙니다.')\n",
        "\n",
        "print(\"\\n-----if 만 사용하는 경우-----\")\n",
        "name = '유혜인'\n",
        "bool_a = False\n",
        "if name[0] == '유':\n",
        "  bool_a = True\n",
        "  print('유씨 입니다.')\n",
        "\n",
        "if name[0] == '송':\n",
        "  bool_a = True\n",
        "  print('유씨가 아니라 송씨입니다.')\n",
        "\n",
        "if not bool_a:\n",
        "  print('유씨도 송씨도 아닙니다.')\n",
        "\n",
        "print(\"\\n-----data 활용 예-----\")\n",
        "name = '송한성'\n",
        "if name[0]==\"유\":\n",
        "  data = 0\n",
        "  print('유씨 입니다.')\n",
        "else: \n",
        "  data = 1\n",
        "\n",
        "print(data)\n",
        "\n",
        "\n",
        "print(\"\\n-----조건문-----\")\n",
        "#if 문과 함께 자주 쓰이는 Data Type Boolean , 참 거짓\n",
        "name = '송한성'\n",
        "bool1 = name[0]=='송'\n",
        "print(\"#a :\", bool1)\n",
        "\n",
        "bool2 = False\n",
        "print(\"#b :\",bool2)\n",
        "\n",
        "#조건문에 대한 이해\n",
        "print(\"#c :\",bool1 and bool2)\n",
        "print(\"#d :\",bool1 or bool2)\n",
        "print(\"#e :\",not bool1)\n",
        "print(\"#f :\", (bool1 or bool2) and not (name[0]=='김' or name[0]=='유'))\n",
        "\n",
        "#비교형 조건문에 대한 이해\n",
        "print(\"\\n-----비교형 조건문-----\")\n",
        "\n",
        "a = 5\n",
        "print(\"#1 :\", a < 4)\n",
        "print(\"#2 :\", a <= 5)\n",
        "print(\"#3 :\", a >= 6)\n",
        "print(\"#4 :\", a != 9)\n",
        "print(\"#5 :\", a == 5)\n",
        "print(\"#6 :\", a == 4)\n",
        "print(\"#7 :\", a != 5)"
      ],
      "metadata": {
        "colab": {
          "base_uri": "https://localhost:8080/"
        },
        "id": "PMSBDFBKnXpl",
        "outputId": "045dad6e-bfac-4427-ab4b-868c46aa8a1e"
      },
      "execution_count": 34,
      "outputs": [
        {
          "output_type": "stream",
          "name": "stdout",
          "text": [
            "-----예제 1번-----\n",
            "유씨 입니다.\n",
            "\n",
            "-----예제 2번-----\n",
            "유씨가 아니라 송씨입니다.\n",
            "\n",
            "-----if 만 사용하는 경우-----\n",
            "유씨 입니다.\n",
            "\n",
            "-----data 활용 예-----\n",
            "1\n",
            "\n",
            "-----조건문-----\n",
            "#a : True\n",
            "#b : False\n",
            "#c : False\n",
            "#d : True\n",
            "#e : False\n",
            "#f : True\n",
            "\n",
            "-----비교형 조건문-----\n",
            "#1 : False\n",
            "#2 : True\n",
            "#3 : False\n",
            "#4 : True\n",
            "#5 : True\n",
            "#6 : False\n",
            "#7 : False\n"
          ]
        }
      ]
    },
    {
      "cell_type": "markdown",
      "source": [
        "### 예제 : 짝수만 출력하는 프로그램"
      ],
      "metadata": {
        "id": "ofdqL02T2T_h"
      }
    },
    {
      "cell_type": "code",
      "source": [
        "# 1. 일반적인 For 문 형태(Range 이용)\n",
        "print('>>>> 일반적인 For 문 형태(Range) <<<<')\n",
        "for i in range(1, 10):\n",
        "    if i%2 == 0:\n",
        "        print(i, end = ' ')\n",
        "\n",
        "print('\\n실행 완료\\n')\n",
        "\n",
        "\n",
        "# 2. 일반적인 For 문 형태(List 이용)\n",
        "num = [1, 2, 3, 4, 5, 6, 7, 8, 9]\n",
        "\n",
        "print('>>>> 일반적인 For 문 형태(List) <<<<')\n",
        "for i in num:\n",
        "    if i%2 == 0:\n",
        "        print(i, end = ' ')\n",
        "\n",
        "#. Range 함수를 num_a 로 지정하는 경우\n",
        "\n",
        "print('\\n실행 완료\\n')\n",
        "num_a = range(1, 15)\n",
        "for i in num_a:\n",
        "    if i%2 == 0:\n",
        "        print(i, end = ' ')\n",
        "\n",
        "\n",
        "print('\\n실행 완료\\n')\n",
        "\n",
        "# List data 가 숫자가 아닌경우\n",
        "\n",
        "names = ['김찬양', '송한성', '유혜인','플래닛','이우주']\n",
        "print(names[2])\n",
        "\n",
        "for n in name:\n",
        "  print(n, end = '.')\n",
        "\n",
        "print('\\n실행 완료\\n')\n",
        "\n",
        "for i in range(len(names)):\n",
        "  print(names[i], end = '.')\n",
        "\n",
        "print('\\n실행 완료\\n')\n",
        "\n",
        "\n",
        "# 3. List 내 For 문 형태\n",
        "print('>>>> List 내 For 문 형태 <<<<')\n",
        "nums = [i for i in num if i%2 == 0]\n",
        "print(nums)"
      ],
      "metadata": {
        "colab": {
          "base_uri": "https://localhost:8080/"
        },
        "id": "vpsm3vrS2SBb",
        "outputId": "3080c5cc-ec4a-47fc-f0ca-820685746d12"
      },
      "execution_count": 79,
      "outputs": [
        {
          "output_type": "stream",
          "name": "stdout",
          "text": [
            ">>>> 일반적인 For 문 형태(Range) <<<<\n",
            "2 4 6 8 \n",
            "실행 완료\n",
            "\n",
            ">>>> 일반적인 For 문 형태(List) <<<<\n",
            "2 4 6 8 \n",
            "실행 완료\n",
            "\n",
            "2 4 6 8 10 12 14 \n",
            "실행 완료\n",
            "\n",
            "유혜인\n",
            "김찬양.송한성.유혜인.플래닛.이우주.\n",
            "실행 완료\n",
            "\n",
            "김찬양.송한성.유혜인.플래닛.이우주.\n",
            "실행 완료\n",
            "\n",
            ">>>> List 내 For 문 형태 <<<<\n",
            "[2, 4, 6, 8]\n"
          ]
        }
      ]
    },
    {
      "cell_type": "code",
      "source": [
        "#예제 구구단 만들기\n",
        "\n",
        "for i in range(1,10):\n",
        "  print(\"{}  단\". format(i))\n",
        "  for j in range(1,10):\n",
        "    print('{} X {} = {}'. format(i, j, i*j))\n",
        "\n",
        "  print()"
      ],
      "metadata": {
        "id": "S-PJsq7_xUgw",
        "outputId": "33368c89-42e5-4528-dc37-52605535f6cf",
        "colab": {
          "base_uri": "https://localhost:8080/"
        }
      },
      "execution_count": 83,
      "outputs": [
        {
          "output_type": "stream",
          "name": "stdout",
          "text": [
            "1  단\n",
            "1 X 1 = 1\n",
            "1 X 2 = 2\n",
            "1 X 3 = 3\n",
            "1 X 4 = 4\n",
            "1 X 5 = 5\n",
            "1 X 6 = 6\n",
            "1 X 7 = 7\n",
            "1 X 8 = 8\n",
            "1 X 9 = 9\n",
            "\n",
            "2  단\n",
            "2 X 1 = 2\n",
            "2 X 2 = 4\n",
            "2 X 3 = 6\n",
            "2 X 4 = 8\n",
            "2 X 5 = 10\n",
            "2 X 6 = 12\n",
            "2 X 7 = 14\n",
            "2 X 8 = 16\n",
            "2 X 9 = 18\n",
            "\n",
            "3  단\n",
            "3 X 1 = 3\n",
            "3 X 2 = 6\n",
            "3 X 3 = 9\n",
            "3 X 4 = 12\n",
            "3 X 5 = 15\n",
            "3 X 6 = 18\n",
            "3 X 7 = 21\n",
            "3 X 8 = 24\n",
            "3 X 9 = 27\n",
            "\n",
            "4  단\n",
            "4 X 1 = 4\n",
            "4 X 2 = 8\n",
            "4 X 3 = 12\n",
            "4 X 4 = 16\n",
            "4 X 5 = 20\n",
            "4 X 6 = 24\n",
            "4 X 7 = 28\n",
            "4 X 8 = 32\n",
            "4 X 9 = 36\n",
            "\n",
            "5  단\n",
            "5 X 1 = 5\n",
            "5 X 2 = 10\n",
            "5 X 3 = 15\n",
            "5 X 4 = 20\n",
            "5 X 5 = 25\n",
            "5 X 6 = 30\n",
            "5 X 7 = 35\n",
            "5 X 8 = 40\n",
            "5 X 9 = 45\n",
            "\n",
            "6  단\n",
            "6 X 1 = 6\n",
            "6 X 2 = 12\n",
            "6 X 3 = 18\n",
            "6 X 4 = 24\n",
            "6 X 5 = 30\n",
            "6 X 6 = 36\n",
            "6 X 7 = 42\n",
            "6 X 8 = 48\n",
            "6 X 9 = 54\n",
            "\n",
            "7  단\n",
            "7 X 1 = 7\n",
            "7 X 2 = 14\n",
            "7 X 3 = 21\n",
            "7 X 4 = 28\n",
            "7 X 5 = 35\n",
            "7 X 6 = 42\n",
            "7 X 7 = 49\n",
            "7 X 8 = 56\n",
            "7 X 9 = 63\n",
            "\n",
            "8  단\n",
            "8 X 1 = 8\n",
            "8 X 2 = 16\n",
            "8 X 3 = 24\n",
            "8 X 4 = 32\n",
            "8 X 5 = 40\n",
            "8 X 6 = 48\n",
            "8 X 7 = 56\n",
            "8 X 8 = 64\n",
            "8 X 9 = 72\n",
            "\n",
            "9  단\n",
            "9 X 1 = 9\n",
            "9 X 2 = 18\n",
            "9 X 3 = 27\n",
            "9 X 4 = 36\n",
            "9 X 5 = 45\n",
            "9 X 6 = 54\n",
            "9 X 7 = 63\n",
            "9 X 8 = 72\n",
            "9 X 9 = 81\n",
            "\n"
          ]
        }
      ]
    },
    {
      "cell_type": "code",
      "source": [
        "names = ['김찬양', '송한성', '유혜인','PyPE_BOY','Plannet']\n",
        "\n",
        "# 이중 포문 예시\n",
        "for i in range(len(names)):\n",
        "  print(\"i: \", i)\n",
        "  print(names[i])\n",
        "  print(\"For j\")\n",
        "  for j in range(len(names[i])):\n",
        "\n",
        "    print(j, names[i][j], end = '.')\n",
        "\n",
        "  print()\n",
        "\n",
        "print('\\n실행 완료\\n')"
      ],
      "metadata": {
        "id": "NuRMNrcku13M",
        "outputId": "f27a3849-3f0c-4c9f-aab0-04af988368ae",
        "colab": {
          "base_uri": "https://localhost:8080/"
        }
      },
      "execution_count": 85,
      "outputs": [
        {
          "output_type": "stream",
          "name": "stdout",
          "text": [
            "i:  0\n",
            "김찬양\n",
            "For j\n",
            "0 김.1 찬.2 양.\n",
            "i:  1\n",
            "송한성\n",
            "For j\n",
            "0 송.1 한.2 성.\n",
            "i:  2\n",
            "유혜인\n",
            "For j\n",
            "0 유.1 혜.2 인.\n",
            "i:  3\n",
            "PyPE_BOY\n",
            "For j\n",
            "0 P.1 y.2 P.3 E.4 _.5 B.6 O.7 Y.\n",
            "i:  4\n",
            "Plannet\n",
            "For j\n",
            "0 P.1 l.2 a.3 n.4 n.5 e.6 t.\n",
            "\n",
            "실행 완료\n",
            "\n"
          ]
        }
      ]
    },
    {
      "cell_type": "code",
      "source": [
        "names = [['김찬양', '송한성', '유혜인'],['선생님','연구원','데이터 분석가'], ['남성', '남성', '여성']] \n",
        "\n",
        "# 삼중 포문 예시 - 혼자서 이해해 보세요\n",
        "for i in range(len(names)):\n",
        "  print(\"i: \", i)\n",
        "  print(names[i])\n",
        "  \n",
        "  for j in range(len(names[i])):\n",
        "    print(\"For j\", j)\n",
        "    print(\"j :\", j, names[i][j])\n",
        "    \n",
        "    print('For k')\n",
        "    for k in range(len(names[i][j])):\n",
        "      print(k, names[i][j][k], end = '.')\n",
        "\n",
        "  print()\n",
        "\n",
        "print('\\n실행 완료\\n')"
      ],
      "metadata": {
        "id": "fBtwdBXSwBLs",
        "outputId": "62acd0c1-6d2e-4b60-eed9-04783508de00",
        "colab": {
          "base_uri": "https://localhost:8080/"
        }
      },
      "execution_count": 87,
      "outputs": [
        {
          "output_type": "stream",
          "name": "stdout",
          "text": [
            "i:  0\n",
            "['김찬양', '송한성', '유혜인']\n",
            "For j 0\n",
            "j : 0 김찬양\n",
            "For k\n",
            "0 김.1 찬.2 양.For j 1\n",
            "j : 1 송한성\n",
            "For k\n",
            "0 송.1 한.2 성.For j 2\n",
            "j : 2 유혜인\n",
            "For k\n",
            "0 유.1 혜.2 인.\n",
            "i:  1\n",
            "['선생님', '연구원', '데이터 분석가']\n",
            "For j 0\n",
            "j : 0 선생님\n",
            "For k\n",
            "0 선.1 생.2 님.For j 1\n",
            "j : 1 연구원\n",
            "For k\n",
            "0 연.1 구.2 원.For j 2\n",
            "j : 2 데이터 분석가\n",
            "For k\n",
            "0 데.1 이.2 터.3  .4 분.5 석.6 가.\n",
            "i:  2\n",
            "['남성', '남성', '여성']\n",
            "For j 0\n",
            "j : 0 남성\n",
            "For k\n",
            "0 남.1 성.For j 1\n",
            "j : 1 남성\n",
            "For k\n",
            "0 남.1 성.For j 2\n",
            "j : 2 여성\n",
            "For k\n",
            "0 여.1 성.\n",
            "\n",
            "실행 완료\n",
            "\n"
          ]
        }
      ]
    },
    {
      "cell_type": "code",
      "source": [
        "# Print 는 항상 지정을 하지 않을 경우, end = '\\n'\n",
        "print('김찬양\\n유혜인')\n",
        "print('김찬양', end = '.')\n",
        "print('유혜인', end = '.')\n",
        "print('김찬양', end = '.')\n",
        "print('유혜인', end = '.')\n",
        "print('김찬양', end = '.')\n",
        "print('유혜인', end = '.')"
      ],
      "metadata": {
        "id": "bNiJsInTqzv9",
        "outputId": "821f9478-4100-4468-fdb2-002f4409c992",
        "colab": {
          "base_uri": "https://localhost:8080/"
        }
      },
      "execution_count": 44,
      "outputs": [
        {
          "output_type": "stream",
          "name": "stdout",
          "text": [
            "김찬양\n",
            "유혜인\n",
            "김찬양.유혜인.김찬양.유혜인.김찬양.유혜인."
          ]
        }
      ]
    },
    {
      "cell_type": "markdown",
      "source": [
        "### 위의 예제를 For문을 활용하여 푸는법"
      ],
      "metadata": {
        "id": "jRc6nbxzxoOK"
      }
    },
    {
      "cell_type": "code",
      "source": [
        "# 다수의 데이터를 처리하므로 for 문을 사용하는 방법도 있다.\n",
        "#변경되어 출력할 문자열을 지정한다.\n",
        "\n",
        "phone_number_blind ='' \n",
        "for i in range(len(phone_number_list)):\n",
        "  phone_number_blind+=phone_number_list[i] #리스트로 저장된 전화번호를 받는다.\n",
        "  if i<len(phone_number_list)-1:\n",
        "    phone_number_blind+='-' # 전화번호 형태로 표시하기 다시 '-' 문자열을 추가하여 아래와 같이 표시한다.\n",
        "\n",
        "print(\"for 문을 사용하여 변경한 답:\",phone_number_blind)\n",
        "print(\"원본 전화 번호:\",phone_number) #복사하여 새로 지정하였기 때문에 데이터가 유지됨"
      ],
      "metadata": {
        "colab": {
          "base_uri": "https://localhost:8080/"
        },
        "id": "5iTetFuHtbG0",
        "outputId": "81020b0a-4c90-4f66-e7c7-0bf2575f410c"
      },
      "execution_count": null,
      "outputs": [
        {
          "output_type": "stream",
          "name": "stdout",
          "text": [
            "for 문을 사용하여 변경한 답: 010-XXXX-5678\n",
            "원본 전화 번호: 010-1234-5678\n"
          ]
        }
      ]
    },
    {
      "cell_type": "markdown",
      "source": [
        "### 숙제 Week 2) \n",
        "  - 2-3: https://www.acmicpc.net/problem/2675\n"
      ],
      "metadata": {
        "id": "I3RNMwX1xijn"
      }
    },
    {
      "cell_type": "markdown",
      "source": [
        "## 3. While 문을 이용한 반복"
      ],
      "metadata": {
        "id": "0aWifGJN2rl-"
      }
    },
    {
      "cell_type": "code",
      "source": [
        "# "
      ],
      "metadata": {
        "id": "aokuJ4gL2vJy"
      },
      "execution_count": null,
      "outputs": []
    },
    {
      "cell_type": "markdown",
      "source": [
        "## 4. List Tuple Map 자료형"
      ],
      "metadata": {
        "id": "0QLg9Wcf2jql"
      }
    },
    {
      "cell_type": "code",
      "source": [],
      "metadata": {
        "id": "Xsqp4SNX2fdx"
      },
      "execution_count": null,
      "outputs": []
    }
  ]
}