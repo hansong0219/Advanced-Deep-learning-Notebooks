{
  "nbformat": 4,
  "nbformat_minor": 0,
  "metadata": {
    "colab": {
      "provenance": [],
      "authorship_tag": "ABX9TyOLJuro/OaN1BbCBq3cILtX",
      "include_colab_link": true
    },
    "kernelspec": {
      "name": "python3",
      "display_name": "Python 3"
    },
    "language_info": {
      "name": "python"
    }
  },
  "cells": [
    {
      "cell_type": "markdown",
      "metadata": {
        "id": "view-in-github",
        "colab_type": "text"
      },
      "source": [
        "<a href=\"https://colab.research.google.com/github/hansong0219/Advanced-Deep-learning-Notebooks/blob/master/Lecture/Week2/Week2.ipynb\" target=\"_parent\"><img src=\"https://colab.research.google.com/assets/colab-badge.svg\" alt=\"Open In Colab\"/></a>"
      ]
    },
    {
      "cell_type": "markdown",
      "source": [
        "#PyPE Boy 2-3 주차 수업 자료"
      ],
      "metadata": {
        "id": "s3QfBwMSkd40"
      }
    },
    {
      "cell_type": "markdown",
      "source": [
        "## 1.Data Type 의 변경, 문자열에 대한 이해, 수치형 데이터의 처리\n",
        "- Data Type 의 변경은 Data 를 적절한 형태로 처리하기 위해 필수적으로 사용하여야 한다. "
      ],
      "metadata": {
        "id": "6IYv5zqltBiE"
      }
    },
    {
      "cell_type": "code",
      "source": [
        "#숫자 자료형 \n",
        "a = 5\n",
        "print(type(a))\n",
        "b = 5.0\n",
        "print(type(b))\n",
        "c = \"김찬양\"\n",
        "print(type(c))\n",
        "\n",
        "d = a + b\n",
        "print(type(d))\n",
        "\n",
        "#숫자\n",
        "a = 90 \n",
        "b = 80\n",
        "c = 70\n",
        "scores = [a, b, c]\n",
        "\n",
        "#숫자의 Data Type 을 가지고 있음.\n",
        "d = sum(scores)/len(scores) #len() 은 데이터의 개수 표시시\n",
        "print(type(d))\n",
        "\n",
        "string  = \"평균 : \" + str(d)\n",
        "print(string)"
      ],
      "metadata": {
        "id": "bHJS0PgRE0rz",
        "outputId": "7eef611e-0d86-4649-cba5-c552a5c6e73a",
        "colab": {
          "base_uri": "https://localhost:8080/"
        }
      },
      "execution_count": 18,
      "outputs": [
        {
          "output_type": "stream",
          "name": "stdout",
          "text": [
            "<class 'int'>\n",
            "<class 'float'>\n",
            "<class 'str'>\n",
            "<class 'float'>\n",
            "<class 'float'>\n",
            "평균 : 80.0\n"
          ]
        }
      ]
    },
    {
      "cell_type": "code",
      "execution_count": 26,
      "metadata": {
        "colab": {
          "base_uri": "https://localhost:8080/"
        },
        "id": "VV6WhNyxkaX3",
        "outputId": "43b2c362-4cdd-46cc-f02a-96bbb37ad008"
      },
      "outputs": [
        {
          "output_type": "stream",
          "name": "stdout",
          "text": [
            "<class 'int'>\n",
            "<class 'str'>\n",
            "<class 'int'>\n",
            "평균점수 : 85.0\n",
            "['수학점수', '80']\n"
          ]
        }
      ],
      "source": [
        "# 숫자 --> 문자열 변경\n",
        "number = 2 #숫자 변수 지정\n",
        "print(type(number))\n",
        "\n",
        "string = str(number) #문자열로 변경\n",
        "print(type(string))\n",
        "\n",
        "num = int(string) #다시 숫자로 변경\n",
        "print(type(num))\n",
        "\n",
        "# 예시\n",
        "a = \"수학점수 : 80\"\n",
        "b = \"영어점수 : 90\"\n",
        "\n",
        "c = \"평균점수 : \" + str((int(a.split(\" : \")[1]) + int(b.split(\" : \")[1]))/2)\n",
        "# \" : \" 뒤의 문자열만 숫자로 변경한 후 평균 계산 --> 다시 문자열로 전환환\n",
        "\n",
        "print(c)\n",
        "\n",
        "#참고 split 명령어를 쓰면 특정 문자열에 따라서 List 데이터로 받음 \n",
        "#List Data 는 3주차에 진행\n",
        "\n",
        "print(a.split(\" : \"))"
      ]
    },
    {
      "cell_type": "code",
      "source": [
        "#문자열의 길이 확인하고 특정 요소 출력하기\n",
        "long_name = '플래닛-김찬양-선생님'\n",
        "print('문자열의 길이 확인 :', len(long_name)) \n",
        "# len() 명령어는 문자열의 길이뿐만 아니라 데이터 전체의 길이도 확인시켜줌\n",
        "\n",
        "print('원하는 순서의 문자 추출 :', long_name[3]) # 원하는 요소를 추출하기 위해서는 대괄호 [] 를 사용한다\n",
        "\n",
        "#특정 기호로 문자열 나누기\n",
        "obj = long_name.split('-') #split() 은 내부의 문자를 기준으로 문자열을 나눔눔\n",
        "print(obj)\n",
        "#organ, name, job = obj #주의! 내부 요소 개수를 맞추었을을 때만 가능\n",
        "organ, name = obj[0], obj[1]\n",
        "print(\"조직, 이름:\", organ, name)\n",
        "print(\"성씨 :\", name[0]) #성씨를 추출한다.\n",
        "\n",
        "name_blind = name[0] + 'XX'\n",
        "print(\"가려진 이름 추출 :\", name_blind)\n",
        "\n",
        "#Python의 문자열 표기법 특징 \n",
        "\"\"\"\n",
        "문자열의 경우 곱하기를 하면, 그 숫자만큼 반복된다\n",
        "\"\"\"\n",
        "print(\"성씨 5번 추출 :\", name[0]*5)\n",
        "print(\"이름 3번 추출 :\", name*3)\n",
        "\n",
        "#대문자 및 소문자 변경\n",
        "eng = 'PyPE BOY'\n",
        "eng = eng[0].lower()+eng[1:]\n",
        "print('대문자를 소문자로 변경 :', eng)\n",
        "eng = eng[0].upper()+eng[1:]\n",
        "print('다시 소문자를 대문자로 변경 :', eng)"
      ],
      "metadata": {
        "colab": {
          "base_uri": "https://localhost:8080/"
        },
        "id": "Aq548wRFk-eg",
        "outputId": "b3ba006c-fdf4-452f-e7bf-47e4b94889f1"
      },
      "execution_count": 37,
      "outputs": [
        {
          "output_type": "stream",
          "name": "stdout",
          "text": [
            "문자열의 길이 확인 : 11\n",
            "원하는 순서의 문자 추출 : -\n",
            "['플래닛', '김찬양', '선생님']\n",
            "조직, 이름: 플래닛 김찬양\n",
            "성씨 : 김\n",
            "가려진 이름 추출 : 김XX\n",
            "성씨 5번 추출 : 김김김김김\n",
            "이름 3번 추출 : 김찬양김찬양김찬양\n",
            "대문자를 소문자로 변경 : pyPE BOY\n",
            "다시 소문자를 대문자로 변경 : PyPE BOY\n"
          ]
        }
      ]
    },
    {
      "cell_type": "markdown",
      "source": [
        "### 숙제 Week 2) \n",
        "- 2-1: https://www.acmicpc.net/problem/2743\n",
        "- 2-2: https://www.acmicpc.net/problem/27866"
      ],
      "metadata": {
        "id": "ZGiYP9aqvbGA"
      }
    },
    {
      "cell_type": "markdown",
      "source": [
        "### 프로그래밍 예제 : 전화번호 가리기\n"
      ],
      "metadata": {
        "id": "dmEDYSxmmXqZ"
      }
    },
    {
      "cell_type": "code",
      "source": [
        "# 입력된 전화번호를 받아 가운데 부분을 XXXX 로 출력한다. \n",
        "phone_number = '010-1234-5678' #전화번호를 입력 받는다\n",
        "\n",
        "#문자열 자체에서 처리하는경우\n",
        "phone_number_x = phone_number[:4] + 'XXXX' + phone_number[-5:]\n",
        "print(\"문자열 Data 추출을 이용한 답:\",phone_number_x)\n",
        "\n",
        "#Split 을 사용하여 일부를 변경하여 사용하는 경우\n",
        "phone_number_list = phone_number.split('-') #전화번호의 일부를 받는다.\n",
        "phone_number_list[1]='XXXX' #두번쨰 전화번호의 Data를 XXXX로 변경한다.\n",
        "\n",
        "phone_number_re = phone_number_list[0] + '-' + phone_number_list[1] + '-' + phone_number_list[2]\n",
        "print(\"Split을 사용하여 변경한 답:\",phone_number_re)\n",
        "print(\"원본 전화 번호:\",phone_number) #복사하여 새로 지정하였기 때문에 데이터가 유지됨"
      ],
      "metadata": {
        "colab": {
          "base_uri": "https://localhost:8080/"
        },
        "id": "03W9PQUwlx9d",
        "outputId": "e714d351-66b5-4f9b-f1c3-4834f7aefb97"
      },
      "execution_count": null,
      "outputs": [
        {
          "output_type": "stream",
          "name": "stdout",
          "text": [
            "문자열 Data 추출을 이용한 답: 010-XXXX-5678\n",
            "Split을 사용하여 변경한 답: 010-XXXX-5678\n",
            "원본 전화 번호: 010-1234-5678\n"
          ]
        }
      ]
    },
    {
      "cell_type": "markdown",
      "source": [
        "## 2. For Loop 와 if 문\n",
        "  - 특정횟수만큼 반복이 필요한 경우 모든 프로그래밍 언어에서 for 문을 사용한다.\n",
        "  - if 문의 경우, 반복문과 함께 자주 사용되므로 사용법을 함께 익힌다. "
      ],
      "metadata": {
        "id": "ZwJ4yh_Ks9xY"
      }
    },
    {
      "cell_type": "code",
      "source": [
        "#For 문의 작성 법\n",
        "\n",
        "#기본 작성법\n",
        "for i in range(10):\n",
        "  #print의 방식은 end 값의 default 가 end = '\\n' 으로 이루어져 있어서 다음줄에 출력 되지만 해당 챕터에서는 띄어쓰기로 한줄에 추출한다.\n",
        "    print(i, end = ' ') \n",
        "\n",
        "print()\n",
        "\n",
        "# If 문의 작성법과 조건문\n",
        "name = '김찬양'\n",
        "if name[0] == '유':\n",
        "  print('유씨 입니다.')\n",
        "else:\n",
        "  print('유씨가 아닙니다.')\n",
        "\n",
        "name = '송한성'\n",
        "if name[0] == '유':\n",
        "  print('유씨 입니다.')\n",
        "elif name[0] == '송':\n",
        "  print('유씨가 아니라 송씨입니다.')\n",
        "else:\n",
        "  print('유씨도 송씨도 아닙니다.')\n",
        "\n",
        "#if 문과 함께 자주 쓰이는 Data Type Boolean , 참 거짓\n",
        "bool1 = name[0]=='송'\n",
        "print(bool1)\n",
        "\n",
        "bool2 = False\n",
        "print(bool2)\n",
        "\n",
        "#조건문에 대한 이해\n",
        "print(bool1 and bool2)\n",
        "print(bool1 or bool2)\n",
        "print(not bool1)\n",
        "\n",
        "#비교형 조건문에 대한 이해\n",
        "a = 5\n",
        "print(a < 4)\n",
        "print(a <= 5)\n",
        "print(a >= 6)\n",
        "print(a != 9)"
      ],
      "metadata": {
        "colab": {
          "base_uri": "https://localhost:8080/"
        },
        "id": "PMSBDFBKnXpl",
        "outputId": "886fceb5-6fdc-4fee-f47b-048aecb4b24f"
      },
      "execution_count": null,
      "outputs": [
        {
          "output_type": "stream",
          "name": "stdout",
          "text": [
            "0 1 2 3 4 5 6 7 8 9 \n",
            "유씨가 아닙니다.\n",
            "유씨가 아니라 송씨입니다.\n",
            "True\n",
            "False\n",
            "False\n",
            "True\n",
            "False\n",
            "False\n",
            "True\n",
            "False\n",
            "True\n"
          ]
        }
      ]
    },
    {
      "cell_type": "markdown",
      "source": [
        "### 예제 : 짝수만 출력하는 프로그램"
      ],
      "metadata": {
        "id": "ofdqL02T2T_h"
      }
    },
    {
      "cell_type": "code",
      "source": [
        "# 1. 일반적인 For 문 형태(Range 이용)\n",
        "print('>>>> 일반적인 For 문 형태(Range) <<<<')\n",
        "for i in range(1, 5):\n",
        "    if i%2 == 0:\n",
        "        print(i, end = ' ')\n",
        "\n",
        "print('\\n 실행 완료')\n",
        "\n",
        "\n",
        "# 2. 일반적인 For 문 형태(List 이용)\n",
        "num = [1, 2, 3, 4, 5]\n",
        "print('>>>> 일반적인 For 문 형태(List) <<<<')\n",
        "for i in num:\n",
        "    if i%2 == 0:\n",
        "        print(i, end = ' ')\n",
        "\n",
        "# 3. List 내 For 문 형태\n",
        "print('>>>> List 내 For 문 형태 <<<<')\n",
        "nums = [i for i in num if i%2 == 0]\n",
        "print(nums)"
      ],
      "metadata": {
        "colab": {
          "base_uri": "https://localhost:8080/"
        },
        "id": "vpsm3vrS2SBb",
        "outputId": "532ce43d-5a90-46ac-c06d-da967339eb5d"
      },
      "execution_count": null,
      "outputs": [
        {
          "output_type": "stream",
          "name": "stdout",
          "text": [
            ">>>> 일반적인 For 문 형태(Range) <<<<\n",
            "2 4 \n",
            " 실행 완료\n",
            ">>>> 일반적인 For 문 형태(List) <<<<\n",
            "2 4 >>>> List 내 For 문 형태 <<<<\n",
            "[2, 4]\n"
          ]
        }
      ]
    },
    {
      "cell_type": "markdown",
      "source": [
        "### 위의 예제를 For문을 활용하여 푸는법"
      ],
      "metadata": {
        "id": "jRc6nbxzxoOK"
      }
    },
    {
      "cell_type": "code",
      "source": [
        "# 다수의 데이터를 처리하므로 for 문을 사용하는 방법도 있다.\n",
        "#변경되어 출력할 문자열을 지정한다.\n",
        "\n",
        "phone_number_blind ='' \n",
        "for i in range(len(phone_number_list)):\n",
        "  phone_number_blind+=phone_number_list[i] #리스트로 저장된 전화번호를 받는다.\n",
        "  if i<len(phone_number_list)-1:\n",
        "    phone_number_blind+='-' # 전화번호 형태로 표시하기 다시 '-' 문자열을 추가하여 아래와 같이 표시한다.\n",
        "\n",
        "print(\"for 문을 사용하여 변경한 답:\",phone_number_blind)\n",
        "print(\"원본 전화 번호:\",phone_number) #복사하여 새로 지정하였기 때문에 데이터가 유지됨"
      ],
      "metadata": {
        "colab": {
          "base_uri": "https://localhost:8080/"
        },
        "id": "5iTetFuHtbG0",
        "outputId": "81020b0a-4c90-4f66-e7c7-0bf2575f410c"
      },
      "execution_count": null,
      "outputs": [
        {
          "output_type": "stream",
          "name": "stdout",
          "text": [
            "for 문을 사용하여 변경한 답: 010-XXXX-5678\n",
            "원본 전화 번호: 010-1234-5678\n"
          ]
        }
      ]
    },
    {
      "cell_type": "markdown",
      "source": [
        "### 숙제 Week 2) \n",
        "  - 2-3: https://www.acmicpc.net/problem/2675\n"
      ],
      "metadata": {
        "id": "I3RNMwX1xijn"
      }
    },
    {
      "cell_type": "markdown",
      "source": [
        "## 3. While 문을 이용한 반복"
      ],
      "metadata": {
        "id": "0aWifGJN2rl-"
      }
    },
    {
      "cell_type": "code",
      "source": [],
      "metadata": {
        "id": "aokuJ4gL2vJy"
      },
      "execution_count": null,
      "outputs": []
    },
    {
      "cell_type": "markdown",
      "source": [
        "## 4. List Tuple Map 자료형"
      ],
      "metadata": {
        "id": "0QLg9Wcf2jql"
      }
    },
    {
      "cell_type": "code",
      "source": [],
      "metadata": {
        "id": "Xsqp4SNX2fdx"
      },
      "execution_count": null,
      "outputs": []
    }
  ]
}