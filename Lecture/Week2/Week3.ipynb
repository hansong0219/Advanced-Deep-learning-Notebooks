{
  "nbformat": 4,
  "nbformat_minor": 0,
  "metadata": {
    "colab": {
      "provenance": [],
      "authorship_tag": "ABX9TyOz8ambl6l2w4VQGD4UxnIU",
      "include_colab_link": true
    },
    "kernelspec": {
      "name": "python3",
      "display_name": "Python 3"
    },
    "language_info": {
      "name": "python"
    }
  },
  "cells": [
    {
      "cell_type": "markdown",
      "metadata": {
        "id": "view-in-github",
        "colab_type": "text"
      },
      "source": [
        "<a href=\"https://colab.research.google.com/github/hansong0219/Advanced-Deep-learning-Notebooks/blob/master/Lecture/Week2/Week3.ipynb\" target=\"_parent\"><img src=\"https://colab.research.google.com/assets/colab-badge.svg\" alt=\"Open In Colab\"/></a>"
      ]
    },
    {
      "cell_type": "markdown",
      "source": [
        "#PyPE Boy 2-3 주차 수업 자료"
      ],
      "metadata": {
        "id": "s3QfBwMSkd40"
      }
    },
    {
      "cell_type": "markdown",
      "source": [
        "## 1.Data Type 의 변경, 문자열에 대한 이해, 수치형 데이터의 처리\n",
        "- Data Type 의 변경은 Data 를 적절한 형태로 처리하기 위해 필수적으로 사용하여야 한다."
      ],
      "metadata": {
        "id": "6IYv5zqltBiE"
      }
    },
    {
      "cell_type": "code",
      "execution_count": null,
      "metadata": {
        "colab": {
          "base_uri": "https://localhost:8080/"
        },
        "id": "VV6WhNyxkaX3",
        "outputId": "a5fbe99a-d20b-4748-8b0b-af78c2833520"
      },
      "outputs": [
        {
          "output_type": "stream",
          "name": "stdout",
          "text": [
            "<class 'int'>\n",
            "<class 'str'>\n",
            "<class 'int'>\n"
          ]
        }
      ],
      "source": [
        "# 숫자 --> 문자열 변경\n",
        "number = 2 #숫자 변수 지정\n",
        "print(type(number))\n",
        "\n",
        "string = str(number) #문자열로 변경\n",
        "print(type(string))\n",
        "\n",
        "num = int(string) #다시 숫자로 변경\n",
        "print(type(num))"
      ]
    },
    {
      "cell_type": "code",
      "source": [
        "#문자열의 길이 확인하고 특정 요소 출력하기\n",
        "long_name = '플래닛-김찬양'\n",
        "print('문자열의 길이 확인 :', len(long_name))\n",
        "print('맨 처음 글자 추출 :', long_name[0])\n",
        "\n",
        "#특정 기호로 문자열 나누기\n",
        "organ, name = long_name.split('-')\n",
        "print(\"조직, 이름:\", organ, name)\n",
        "print(\"성씨 :\",name[0]) #성씨를 추출한다.\n",
        "\n",
        "name_blind = name[0] + 'XX'\n",
        "print(\"가려진 이름 추출 :\", name_blind)\n",
        "\n",
        "#Python의 문자열 표기법 특징\n",
        "\"\"\"\n",
        "문자열의 경우 곱하기를 하면, 그 숫자만큼 반복된다\n",
        "\"\"\"\n",
        "print(\"성씨 5번 추출 :\", name[0]*5)\n",
        "print(\"이름 3번 추출 :\", name*3)\n",
        "\n",
        "#대문자 및 소문자 변경\n",
        "eng = 'PyPE BOY'\n",
        "eng = eng[0].lower()+eng[1:]\n",
        "print('대문자를 소문자로 변경 :', eng)\n",
        "eng = eng[0].upper()+eng[1:]\n",
        "print('다시 소문자를 대문자로 변경 :', eng)"
      ],
      "metadata": {
        "colab": {
          "base_uri": "https://localhost:8080/"
        },
        "id": "Aq548wRFk-eg",
        "outputId": "6f48c77b-eca1-4ba9-fc92-6e379039065b"
      },
      "execution_count": null,
      "outputs": [
        {
          "output_type": "stream",
          "name": "stdout",
          "text": [
            "문자열의 길이 확인 : 7\n",
            "맨 처음 글자 추출 : 플\n",
            "조직, 이름: 플래닛 김찬양\n",
            "성씨 : 김\n",
            "가려진 이름 추출 : 김XX\n",
            "성씨 5번 추출 : 김김김김김\n",
            "이름 3번 추출 : 김찬양김찬양김찬양\n",
            "대문자를 소문자로 변경 : pyPE BOY\n",
            "다시 소문자를 대문자로 변경 : PyPE BOY\n"
          ]
        }
      ]
    },
    {
      "cell_type": "markdown",
      "source": [
        "### 숙제 Week 2)\n",
        "- 2-1: https://www.acmicpc.net/problem/2743\n",
        "- 2-2: https://www.acmicpc.net/problem/27866"
      ],
      "metadata": {
        "id": "ZGiYP9aqvbGA"
      }
    },
    {
      "cell_type": "markdown",
      "source": [
        "### 프로그래밍 예제 : 전화번호 가리기\n"
      ],
      "metadata": {
        "id": "dmEDYSxmmXqZ"
      }
    },
    {
      "cell_type": "code",
      "source": [
        "# 입력된 전화번호를 받아 가운데 부분을 XXXX 로 출력한다.\n",
        "phone_number = '010-1234-5678' #전화번호를 입력 받는다\n",
        "\n",
        "#문자열 자체에서 처리하는경우\n",
        "phone_number_x = phone_number[:4] + 'XXXX' + phone_number[-5:]\n",
        "print(\"문자열 Data 추출을 이용한 답:\",phone_number_x)\n",
        "\n",
        "#Split 을 사용하여 일부를 변경하여 사용하는 경우\n",
        "phone_number_list = phone_number.split('-') #전화번호의 일부를 받는다.\n",
        "phone_number_list[1]='XXXX' #두번쨰 전화번호의 Data를 XXXX로 변경한다.\n",
        "\n",
        "phone_number_re = phone_number_list[0] + '-' + phone_number_list[1] + '-' + phone_number_list[2]\n",
        "print(\"Split을 사용하여 변경한 답:\",phone_number_re)\n",
        "print(\"원본 전화 번호:\",phone_number) #복사하여 새로 지정하였기 때문에 데이터가 유지됨"
      ],
      "metadata": {
        "colab": {
          "base_uri": "https://localhost:8080/"
        },
        "id": "03W9PQUwlx9d",
        "outputId": "e714d351-66b5-4f9b-f1c3-4834f7aefb97"
      },
      "execution_count": null,
      "outputs": [
        {
          "output_type": "stream",
          "name": "stdout",
          "text": [
            "문자열 Data 추출을 이용한 답: 010-XXXX-5678\n",
            "Split을 사용하여 변경한 답: 010-XXXX-5678\n",
            "원본 전화 번호: 010-1234-5678\n"
          ]
        }
      ]
    },
    {
      "cell_type": "markdown",
      "source": [
        "## 2. For Loop 와 if 문\n",
        "  - 특정횟수만큼 반복이 필요한 경우 모든 프로그래밍 언어에서 for 문을 사용한다.\n",
        "  - if 문의 경우, 반복문과 함께 자주 사용되므로 사용법을 함께 익힌다."
      ],
      "metadata": {
        "id": "ZwJ4yh_Ks9xY"
      }
    },
    {
      "cell_type": "code",
      "source": [
        "#For 문의 작성 법\n",
        "\n",
        "#기본 작성법\n",
        "for i in range(10):\n",
        "  #print의 방식은 end 값의 default 가 end = '\\n' 으로 이루어져 있어서 다음줄에 출력 되지만 해당 챕터에서는 띄어쓰기로 한줄에 추출한다.\n",
        "    print(i, end = ' ')\n",
        "\n",
        "print()\n",
        "\n",
        "# If 문의 작성법과 조건문\n",
        "name = '김찬양'\n",
        "if name[0] == '유':\n",
        "  print('유씨 입니다.')\n",
        "else:\n",
        "  print('유씨가 아닙니다.')\n",
        "\n",
        "name = '송한성'\n",
        "if name[0] == '유':\n",
        "  print('유씨 입니다.')\n",
        "elif name[0] == '송':\n",
        "  print('유씨가 아니라 송씨입니다.')\n",
        "else:\n",
        "  print('유씨도 송씨도 아닙니다.')\n",
        "\n",
        "#if 문과 함께 자주 쓰이는 Data Type Boolean , 참 거짓\n",
        "bool1 = name[0]=='송'\n",
        "print(bool1)\n",
        "\n",
        "bool2 = False\n",
        "print(bool2)\n",
        "\n",
        "#조건문에 대한 이해\n",
        "print(bool1 and bool2)\n",
        "print(bool1 or bool2)\n",
        "print(not bool1)\n",
        "\n",
        "#비교형 조건문에 대한 이해\n",
        "a = 5\n",
        "print(a < 4)\n",
        "print(a <= 5)\n",
        "print(a >= 6)\n",
        "print(a != 9)"
      ],
      "metadata": {
        "colab": {
          "base_uri": "https://localhost:8080/"
        },
        "id": "PMSBDFBKnXpl",
        "outputId": "886fceb5-6fdc-4fee-f47b-048aecb4b24f"
      },
      "execution_count": null,
      "outputs": [
        {
          "output_type": "stream",
          "name": "stdout",
          "text": [
            "0 1 2 3 4 5 6 7 8 9 \n",
            "유씨가 아닙니다.\n",
            "유씨가 아니라 송씨입니다.\n",
            "True\n",
            "False\n",
            "False\n",
            "True\n",
            "False\n",
            "False\n",
            "True\n",
            "False\n",
            "True\n"
          ]
        }
      ]
    },
    {
      "cell_type": "markdown",
      "source": [
        "### 예제 : 짝수만 출력하는 프로그램"
      ],
      "metadata": {
        "id": "ofdqL02T2T_h"
      }
    },
    {
      "cell_type": "code",
      "source": [
        "# 1. 일반적인 For 문 형태(Range 이용)\n",
        "print('>>>> 일반적인 For 문 형태(Range) <<<<')\n",
        "for i in range(1, 5):\n",
        "    if i%2 == 0:\n",
        "        print(i, end = ' ')\n",
        "\n",
        "print('\\n 실행 완료')\n",
        "\n",
        "\n",
        "# 2. 일반적인 For 문 형태(List 이용)\n",
        "num = [1, 2, 3, 4, 5]\n",
        "print('>>>> 일반적인 For 문 형태(List) <<<<')\n",
        "for i in num:\n",
        "    if i%2 == 0:\n",
        "        print(i, end = ' ')\n",
        "\n",
        "# 3. List 내 For 문 형태\n",
        "print('>>>> List 내 For 문 형태 <<<<')\n",
        "nums = [i for i in num if i%2 == 0]\n",
        "print(nums)"
      ],
      "metadata": {
        "colab": {
          "base_uri": "https://localhost:8080/"
        },
        "id": "vpsm3vrS2SBb",
        "outputId": "532ce43d-5a90-46ac-c06d-da967339eb5d"
      },
      "execution_count": null,
      "outputs": [
        {
          "output_type": "stream",
          "name": "stdout",
          "text": [
            ">>>> 일반적인 For 문 형태(Range) <<<<\n",
            "2 4 \n",
            " 실행 완료\n",
            ">>>> 일반적인 For 문 형태(List) <<<<\n",
            "2 4 >>>> List 내 For 문 형태 <<<<\n",
            "[2, 4]\n"
          ]
        }
      ]
    },
    {
      "cell_type": "markdown",
      "source": [
        "### 위의 예제를 For문을 활용하여 푸는법"
      ],
      "metadata": {
        "id": "jRc6nbxzxoOK"
      }
    },
    {
      "cell_type": "code",
      "source": [
        "# 다수의 데이터를 처리하므로 for 문을 사용하는 방법도 있다.\n",
        "#변경되어 출력할 문자열을 지정한다.\n",
        "\n",
        "phone_number_blind =''\n",
        "for i in range(len(phone_number_list)):\n",
        "  phone_number_blind+=phone_number_list[i] #리스트로 저장된 전화번호를 받는다.\n",
        "  if i<len(phone_number_list)-1:\n",
        "    phone_number_blind+='-' # 전화번호 형태로 표시하기 다시 '-' 문자열을 추가하여 아래와 같이 표시한다.\n",
        "\n",
        "print(\"for 문을 사용하여 변경한 답:\",phone_number_blind)\n",
        "print(\"원본 전화 번호:\",phone_number) #복사하여 새로 지정하였기 때문에 데이터가 유지됨"
      ],
      "metadata": {
        "colab": {
          "base_uri": "https://localhost:8080/"
        },
        "id": "5iTetFuHtbG0",
        "outputId": "81020b0a-4c90-4f66-e7c7-0bf2575f410c"
      },
      "execution_count": null,
      "outputs": [
        {
          "output_type": "stream",
          "name": "stdout",
          "text": [
            "for 문을 사용하여 변경한 답: 010-XXXX-5678\n",
            "원본 전화 번호: 010-1234-5678\n"
          ]
        }
      ]
    },
    {
      "cell_type": "markdown",
      "source": [
        "### 숙제 Week 2)\n",
        "  - 2-3: https://www.acmicpc.net/problem/2675\n"
      ],
      "metadata": {
        "id": "I3RNMwX1xijn"
      }
    },
    {
      "cell_type": "markdown",
      "source": [
        "## 3. While 문을 이용한 반복\n",
        "  - Dynamic Data 에 대한 처리(실시간으로 변하거나 지속적으로 데이터를 처리해야 되는 경우에 While 문을 주로 사용함)\n"
      ],
      "metadata": {
        "id": "0aWifGJN2rl-"
      }
    },
    {
      "cell_type": "code",
      "source": [
        "# While 문의 기본형태\n",
        "number = 0\n",
        "\n",
        "#while 뒤의 조건에 따라서 상태 결정\n",
        "while True:\n",
        "\n",
        "  #조건문을 활용하여 break 수행 여부 결정\n",
        "  if number >= 50 :\n",
        "    break\n",
        "    #break 수행 시 while 문 중단\n",
        "\n",
        "  number +=3\n",
        "  print(number)"
      ],
      "metadata": {
        "id": "aokuJ4gL2vJy",
        "outputId": "8d83af3a-3396-4b8a-b6a8-5e1896c7e0c7",
        "colab": {
          "base_uri": "https://localhost:8080/"
        }
      },
      "execution_count": null,
      "outputs": [
        {
          "output_type": "stream",
          "name": "stdout",
          "text": [
            "3\n",
            "6\n",
            "9\n",
            "12\n",
            "15\n",
            "18\n",
            "21\n",
            "24\n",
            "27\n",
            "30\n",
            "33\n",
            "36\n",
            "39\n",
            "42\n",
            "45\n",
            "48\n",
            "51\n"
          ]
        }
      ]
    },
    {
      "cell_type": "code",
      "source": [
        "# Boolean 데이터를 변경하여 While 문 정지\n",
        "bool_a = True\n",
        "number = 0\n",
        "#while 뒤의 조건에 따라서 상태 결정\n",
        "\n",
        "while bool_a:\n",
        "  if number >=50:\n",
        "    bool_a = False\n",
        "    # bool_a 의 데이터 변경이 반영 되었을 때\n",
        "\n",
        "  number += 3\n",
        "  print(number)\n"
      ],
      "metadata": {
        "colab": {
          "base_uri": "https://localhost:8080/"
        },
        "id": "zrTDL0zzt7Pg",
        "outputId": "ae896f32-474e-496d-c805-44bc22f91ac2"
      },
      "execution_count": null,
      "outputs": [
        {
          "output_type": "stream",
          "name": "stdout",
          "text": [
            "3\n",
            "6\n",
            "9\n",
            "12\n",
            "15\n",
            "18\n",
            "21\n",
            "24\n",
            "27\n",
            "30\n",
            "33\n",
            "36\n",
            "39\n",
            "42\n",
            "45\n",
            "48\n",
            "51\n",
            "54\n"
          ]
        }
      ]
    },
    {
      "cell_type": "markdown",
      "source": [
        "## 4. List, Tuple, Map Set, Dict자료형\n",
        "\n",
        "\n"
      ],
      "metadata": {
        "id": "0QLg9Wcf2jql"
      }
    },
    {
      "cell_type": "code",
      "source": [
        "#List 자료형\n",
        "a_list = []\n",
        "for i in range(10):\n",
        "  a_list.append(str(i))\n",
        "\n",
        "print(a_list)"
      ],
      "metadata": {
        "id": "Xsqp4SNX2fdx",
        "colab": {
          "base_uri": "https://localhost:8080/"
        },
        "outputId": "6e63f5e2-4357-4cd8-ccef-9e90c650b088"
      },
      "execution_count": null,
      "outputs": [
        {
          "output_type": "stream",
          "name": "stdout",
          "text": [
            "['0', '1', '2', '3', '4', '5', '6', '7', '8', '9']\n"
          ]
        }
      ]
    },
    {
      "cell_type": "code",
      "source": [
        "# 2차원 데이터 형태로 쓰는 경우\n",
        "a_list = []\n",
        "for i in range(3):\n",
        "  b_list = []\n",
        "  for j in range(3):\n",
        "    b_list.append(str(i)+str(j))\n",
        "  a_list.append(b_list)\n",
        "\n",
        "print(a_list)"
      ],
      "metadata": {
        "colab": {
          "base_uri": "https://localhost:8080/"
        },
        "id": "jWZv995L0QCz",
        "outputId": "a44f333c-2936-4ed0-a3f0-6f0544ea45d8"
      },
      "execution_count": null,
      "outputs": [
        {
          "output_type": "stream",
          "name": "stdout",
          "text": [
            "[['00', '01', '02'], ['10', '11', '12'], ['20', '21', '22']]\n"
          ]
        }
      ]
    },
    {
      "cell_type": "code",
      "source": [
        "#라이브러리를 사용하는 경우 numpy (외부 라이브러리 이기에 코딩테스트에서 설치 금지됨)\n",
        "import numpy as np"
      ],
      "metadata": {
        "id": "n6anKNO-1IND"
      },
      "execution_count": null,
      "outputs": []
    },
    {
      "cell_type": "code",
      "source": [
        "# 2차원 데이터 형태로 쓰는 경우 (numpy array)\n",
        "a_list = []\n",
        "for i in range(10):\n",
        "  b_list = []\n",
        "  for j in range(10):\n",
        "    b_list.append(str(i)+'행'+str(j)+'열')\n",
        "  a_list.append(np.array(b_list))\n",
        "\n",
        "print(np.array(a_list))"
      ],
      "metadata": {
        "colab": {
          "base_uri": "https://localhost:8080/"
        },
        "id": "XHmQDZvV04-h",
        "outputId": "d2c40f84-e686-43e3-ecb4-28d8c631a330"
      },
      "execution_count": null,
      "outputs": [
        {
          "output_type": "stream",
          "name": "stdout",
          "text": [
            "[['0행0열' '0행1열' '0행2열' '0행3열' '0행4열' '0행5열' '0행6열' '0행7열' '0행8열' '0행9열']\n",
            " ['1행0열' '1행1열' '1행2열' '1행3열' '1행4열' '1행5열' '1행6열' '1행7열' '1행8열' '1행9열']\n",
            " ['2행0열' '2행1열' '2행2열' '2행3열' '2행4열' '2행5열' '2행6열' '2행7열' '2행8열' '2행9열']\n",
            " ['3행0열' '3행1열' '3행2열' '3행3열' '3행4열' '3행5열' '3행6열' '3행7열' '3행8열' '3행9열']\n",
            " ['4행0열' '4행1열' '4행2열' '4행3열' '4행4열' '4행5열' '4행6열' '4행7열' '4행8열' '4행9열']\n",
            " ['5행0열' '5행1열' '5행2열' '5행3열' '5행4열' '5행5열' '5행6열' '5행7열' '5행8열' '5행9열']\n",
            " ['6행0열' '6행1열' '6행2열' '6행3열' '6행4열' '6행5열' '6행6열' '6행7열' '6행8열' '6행9열']\n",
            " ['7행0열' '7행1열' '7행2열' '7행3열' '7행4열' '7행5열' '7행6열' '7행7열' '7행8열' '7행9열']\n",
            " ['8행0열' '8행1열' '8행2열' '8행3열' '8행4열' '8행5열' '8행6열' '8행7열' '8행8열' '8행9열']\n",
            " ['9행0열' '9행1열' '9행2열' '9행3열' '9행4열' '9행5열' '9행6열' '9행7열' '9행8열' '9행9열']]\n"
          ]
        }
      ]
    },
    {
      "cell_type": "markdown",
      "source": [
        "##예제) 구구단 행렬 만들기"
      ],
      "metadata": {
        "id": "UNDylLSB2Bjm"
      }
    },
    {
      "cell_type": "code",
      "source": [
        "# 2차원 데이터 형태로 쓰는 경우 (numpy array)\n",
        "a_list = []\n",
        "for i in range(1,10):\n",
        "  b_list = []\n",
        "  for j in range(1,10):\n",
        "    b_list.append(str(i)+' X '+str(j)+' = '+ str(i*j))\n",
        "  a_list.append(np.array(b_list))\n",
        "\n",
        "print(np.transpose(np.array(a_list)))"
      ],
      "metadata": {
        "colab": {
          "base_uri": "https://localhost:8080/"
        },
        "id": "QRqa6AoZ1a4w",
        "outputId": "ab526dee-4473-426f-e820-daa821b94bc9"
      },
      "execution_count": null,
      "outputs": [
        {
          "output_type": "stream",
          "name": "stdout",
          "text": [
            "[['1 X 1 = 1' '2 X 1 = 2' '3 X 1 = 3' '4 X 1 = 4' '5 X 1 = 5' '6 X 1 = 6'\n",
            "  '7 X 1 = 7' '8 X 1 = 8' '9 X 1 = 9']\n",
            " ['1 X 2 = 2' '2 X 2 = 4' '3 X 2 = 6' '4 X 2 = 8' '5 X 2 = 10'\n",
            "  '6 X 2 = 12' '7 X 2 = 14' '8 X 2 = 16' '9 X 2 = 18']\n",
            " ['1 X 3 = 3' '2 X 3 = 6' '3 X 3 = 9' '4 X 3 = 12' '5 X 3 = 15'\n",
            "  '6 X 3 = 18' '7 X 3 = 21' '8 X 3 = 24' '9 X 3 = 27']\n",
            " ['1 X 4 = 4' '2 X 4 = 8' '3 X 4 = 12' '4 X 4 = 16' '5 X 4 = 20'\n",
            "  '6 X 4 = 24' '7 X 4 = 28' '8 X 4 = 32' '9 X 4 = 36']\n",
            " ['1 X 5 = 5' '2 X 5 = 10' '3 X 5 = 15' '4 X 5 = 20' '5 X 5 = 25'\n",
            "  '6 X 5 = 30' '7 X 5 = 35' '8 X 5 = 40' '9 X 5 = 45']\n",
            " ['1 X 6 = 6' '2 X 6 = 12' '3 X 6 = 18' '4 X 6 = 24' '5 X 6 = 30'\n",
            "  '6 X 6 = 36' '7 X 6 = 42' '8 X 6 = 48' '9 X 6 = 54']\n",
            " ['1 X 7 = 7' '2 X 7 = 14' '3 X 7 = 21' '4 X 7 = 28' '5 X 7 = 35'\n",
            "  '6 X 7 = 42' '7 X 7 = 49' '8 X 7 = 56' '9 X 7 = 63']\n",
            " ['1 X 8 = 8' '2 X 8 = 16' '3 X 8 = 24' '4 X 8 = 32' '5 X 8 = 40'\n",
            "  '6 X 8 = 48' '7 X 8 = 56' '8 X 8 = 64' '9 X 8 = 72']\n",
            " ['1 X 9 = 9' '2 X 9 = 18' '3 X 9 = 27' '4 X 9 = 36' '5 X 9 = 45'\n",
            "  '6 X 9 = 54' '7 X 9 = 63' '8 X 9 = 72' '9 X 9 = 81']]\n"
          ]
        }
      ]
    },
    {
      "cell_type": "code",
      "source": [
        "# random 하게 integer 생성하는 library\n",
        "from random import randrange"
      ],
      "metadata": {
        "id": "wLOk9N_Q0A23"
      },
      "execution_count": 40,
      "outputs": []
    },
    {
      "cell_type": "code",
      "source": [
        "num_list = []\n",
        "for i in range(10):\n",
        "  num_list.append(randrange(10,100))\n",
        "\n",
        "print(num_list)"
      ],
      "metadata": {
        "colab": {
          "base_uri": "https://localhost:8080/"
        },
        "id": "c6EoRDOv4WhL",
        "outputId": "b7419a34-c0fa-467d-a8c2-9731d3dfdf09"
      },
      "execution_count": null,
      "outputs": [
        {
          "output_type": "stream",
          "name": "stdout",
          "text": [
            "[45, 17, 18, 13, 43, 90, 43, 68, 76, 35]\n"
          ]
        }
      ]
    },
    {
      "cell_type": "code",
      "source": [
        "# 2자리 수 곱하기 문제 만들기\n",
        "prob_list = [randrange]\n",
        "for i in range(10):\n",
        "  a = randrange(10, 100)\n",
        "  b = randrange(10, 100)\n",
        "\n",
        "  prob_list.append(str(a)+ ' X ' + str(b) + ' = (       )')"
      ],
      "metadata": {
        "id": "gK6O5ocd5f1p"
      },
      "execution_count": null,
      "outputs": []
    },
    {
      "cell_type": "code",
      "source": [
        "print(prob_list)"
      ],
      "metadata": {
        "colab": {
          "base_uri": "https://localhost:8080/"
        },
        "id": "PlSfjNLT56e6",
        "outputId": "67154ed9-9fa3-4f12-eaee-994a6013f9a9"
      },
      "execution_count": null,
      "outputs": [
        {
          "output_type": "stream",
          "name": "stdout",
          "text": [
            "[<bound method Random.randrange of <random.Random object at 0x20f46b0>>, '80 X 61 = (       )', '93 X 74 = (       )', '58 X 77 = (       )', '97 X 61 = (       )', '14 X 63 = (       )', '20 X 44 = (       )', '18 X 84 = (       )', '96 X 40 = (       )', '60 X 90 = (       )', '31 X 88 = (       )']\n"
          ]
        }
      ]
    },
    {
      "cell_type": "code",
      "source": [
        "print('평균 : ',sum(num_list)/len(num_list), '합계 : ')\n",
        "print('최대 : ', max(num_list), '최소 : ', min(num_list))"
      ],
      "metadata": {
        "colab": {
          "base_uri": "https://localhost:8080/"
        },
        "id": "wWkf7G4q42ii",
        "outputId": "0c7d01b3-7e81-4099-cc12-f72e74180610"
      },
      "execution_count": null,
      "outputs": [
        {
          "output_type": "stream",
          "name": "stdout",
          "text": [
            "평균 :  44.8 합계 : \n",
            "최대 :  90 최소 :  13\n"
          ]
        }
      ]
    },
    {
      "cell_type": "markdown",
      "source": [
        "## 3주차"
      ],
      "metadata": {
        "id": "aR6TtJWhwarx"
      }
    },
    {
      "cell_type": "markdown",
      "source": [
        "### List 명령어 정리\n"
      ],
      "metadata": {
        "id": "Ao5GTdq8i730"
      }
    },
    {
      "cell_type": "code",
      "source": [
        "# List Data 형을 정의\n",
        "my_list = []\n",
        "# Type 확인\n",
        "print(type(my_list))\n",
        "\n",
        "my_list.append('데이터')\n",
        "print('List.append() 의 작동 확인: ',my_list)\n",
        "\n",
        "print( ' \\n- List Data 의 For 문 적용 - ')\n",
        "for i in range(4):\n",
        "  my_list.append(i)\n",
        "  print('List.append() 의 작동 확인: ',my_list, 'List 데이터의 요소 수 확인:', len(my_list))\n",
        "\n",
        "\n",
        "print( ' \\n- List Data의 insert() 의 적용 - ')\n",
        "my_list2 = ['1번','2번','3번']\n",
        "my_list2.insert(1, '4번')\n",
        "print('List.insert() 의 작동 확인: ',my_list2)\n",
        "\n",
        "print( ' \\n- List Data의 .extend() 의 적용 - ')\n",
        "my_list.extend(my_list2)#List 2가지를 붙일때, 사용\n",
        "print('List.extend() 의 작동 확인: ', my_list)"
      ],
      "metadata": {
        "id": "aVphDbwZ5XtU",
        "outputId": "3e9a9bb0-78a4-491a-e950-8e9f06826bc5",
        "colab": {
          "base_uri": "https://localhost:8080/"
        }
      },
      "execution_count": 18,
      "outputs": [
        {
          "output_type": "stream",
          "name": "stdout",
          "text": [
            "<class 'list'>\n",
            "List.append() 의 작동 확인:  ['데이터']\n",
            " \n",
            "- List Data 의 For 문 적용 - \n",
            "List.append() 의 작동 확인:  ['데이터', 0] List 데이터의 요소 수 확인: 2\n",
            "List.append() 의 작동 확인:  ['데이터', 0, 1] List 데이터의 요소 수 확인: 3\n",
            "List.append() 의 작동 확인:  ['데이터', 0, 1, 2] List 데이터의 요소 수 확인: 4\n",
            "List.append() 의 작동 확인:  ['데이터', 0, 1, 2, 3] List 데이터의 요소 수 확인: 5\n",
            " \n",
            "- List Data의 insert() 의 적용 - \n",
            "List.insert() 의 작동 확인:  ['1번', '4번', '2번', '3번']\n",
            " \n",
            "- List Data의 .extend() 의 적용 - \n",
            "List.extend() 의 작동 확인:  ['데이터', 0, 1, 2, 3, '1번', '4번', '2번', '3번']\n"
          ]
        }
      ]
    },
    {
      "cell_type": "markdown",
      "source": [
        "## 함수와 모듈"
      ],
      "metadata": {
        "id": "12K03OoImuat"
      }
    },
    {
      "cell_type": "code",
      "source": [
        "#함수를 정의\n",
        "\n",
        "def function(a):\n",
        "  b = 3*a\n",
        "  # 지역변수\n",
        "  return b\n",
        "\n",
        "a = 5\n",
        "print(\"함수 작동확인: \", function(a))\n"
      ],
      "metadata": {
        "id": "j6vXIxr-4gqC",
        "outputId": "dd74d731-2d57-476a-ca97-9d501a6c0b5f",
        "colab": {
          "base_uri": "https://localhost:8080/"
        }
      },
      "execution_count": 22,
      "outputs": [
        {
          "output_type": "stream",
          "name": "stdout",
          "text": [
            "함수 작동확인:  15\n",
            "75\n"
          ]
        }
      ]
    },
    {
      "cell_type": "code",
      "source": [
        "# 전역 변수 선언\n",
        "c = 5\n",
        "my_list = []\n",
        "\n",
        "def function(a):\n",
        "  b = 3*a\n",
        "  # 지역변수 선언\n",
        "  c = 7\n",
        "  # 함수 내부여도 함수의 작동은 적용된다.\n",
        "  my_list.append(c)\n",
        "\n",
        "  return b\n",
        "\n",
        "b = function(a)\n",
        "print(b, c)\n",
        "print(my_list)"
      ],
      "metadata": {
        "id": "mjCl7URVoCrO",
        "outputId": "f131484e-7b6b-453f-8686-113f7f157432",
        "colab": {
          "base_uri": "https://localhost:8080/"
        }
      },
      "execution_count": 35,
      "outputs": [
        {
          "output_type": "stream",
          "name": "stdout",
          "text": [
            "15 5\n",
            "[7]\n"
          ]
        }
      ]
    },
    {
      "cell_type": "code",
      "source": [
        "# random 하게 integer 생성하는 library\n",
        "from random import randrange\n",
        "\n",
        "# a 개의 b 자릿수의 곱셈 문제를 만드는 함수\n",
        "def generator(a, b):\n",
        "\n",
        "  min_num = 10**(b-1) #10의 (b-1) 승\n",
        "  max_num = 10**(b) #10의 b 승\n",
        "\n",
        "  problems = []\n",
        "  for i in range(a):\n",
        "    c = randrange(min_num, max_num)\n",
        "    d = randrange(min_num, max_num)\n",
        "\n",
        "    problems.append(str(c)+ ' X ' + str(d) + ' = (       )')\n",
        "\n",
        "  return problems\n",
        "\n",
        "problems = generator(5, 5)\n",
        "\n",
        "print(problems)"
      ],
      "metadata": {
        "id": "Sf09Pxh4oIN2",
        "outputId": "d37b2440-5ac9-4dc1-a7fa-3f3ab05a3d2d",
        "colab": {
          "base_uri": "https://localhost:8080/"
        }
      },
      "execution_count": 44,
      "outputs": [
        {
          "output_type": "stream",
          "name": "stdout",
          "text": [
            "['79849 X 25612 = (       )', '39225 X 80775 = (       )', '90899 X 13931 = (       )', '76190 X 14734 = (       )', '34930 X 19095 = (       )']\n"
          ]
        }
      ]
    },
    {
      "cell_type": "code",
      "source": [
        "# a 개의 b 자릿수의 숫자를 c개 곱하는 곱셈 문제를 만드는 함수\n",
        "def generator(a, b, c):\n",
        "\n",
        "  min_num = 10**(b-1) #10의 (b-1) 승\n",
        "  max_num = 10**(b) #10의 b 승\n",
        "\n",
        "  problems = []\n",
        "  ans = []\n",
        "\n",
        "  for i in range(a):\n",
        "    my_string = ' '\n",
        "    for j in range(c):\n",
        "      temp = randrange(min_num, max_num)\n",
        "      if j == 0:\n",
        "        ans_1 = temp\n",
        "      else:\n",
        "        ans_1*=temp\n",
        "\n",
        "      my_string += str(temp)\n",
        "      if j<c-1:\n",
        "        my_string += ' X '\n",
        "      else:\n",
        "        my_string += ' = (       )'\n",
        "\n",
        "    problems.append(my_string)\n",
        "    ans.append(ans_1)\n",
        "\n",
        "  return problems, ans\n",
        "\n",
        "problems, ans = generator(5, 2, 4)\n",
        "\n",
        "print(problems)\n",
        "print(ans)"
      ],
      "metadata": {
        "id": "mvn5Auz-qwzh",
        "outputId": "bb84e201-3aa4-4219-fee1-af24849b4a44",
        "colab": {
          "base_uri": "https://localhost:8080/"
        }
      },
      "execution_count": 51,
      "outputs": [
        {
          "output_type": "stream",
          "name": "stdout",
          "text": [
            "[' 26 X 48 X 44 X 93 = (       )', ' 87 X 86 X 18 X 97 = (       )', ' 87 X 73 X 92 X 33 = (       )', ' 58 X 10 X 30 X 78 = (       )', ' 94 X 16 X 66 X 29 = (       )']\n",
            "[5106816, 13063572, 19281636, 1357200, 2878656]\n"
          ]
        }
      ]
    },
    {
      "cell_type": "code",
      "source": [
        "class M1():\n",
        "  # 클래스가 불러졌을 때 기본으로 적용되는 것\n",
        "  b = 1\n",
        "  def __init__(self):\n",
        "    self.a = 3\n",
        "\n",
        "  def function(self, a):\n",
        "    return self.b*a\n",
        "\n",
        "my_class = M1()\n",
        "print(my_class.b)\n",
        "print(my_class.function(3))"
      ],
      "metadata": {
        "id": "l-vkUvbMtIu5",
        "outputId": "172eba13-fbc0-4b89-c258-cef51faea1cf",
        "colab": {
          "base_uri": "https://localhost:8080/"
        }
      },
      "execution_count": 65,
      "outputs": [
        {
          "output_type": "stream",
          "name": "stdout",
          "text": [
            "1\n",
            "3\n"
          ]
        }
      ]
    },
    {
      "cell_type": "code",
      "source": [],
      "metadata": {
        "id": "XhDPSFRYt-9J"
      },
      "execution_count": null,
      "outputs": []
    }
  ]
}