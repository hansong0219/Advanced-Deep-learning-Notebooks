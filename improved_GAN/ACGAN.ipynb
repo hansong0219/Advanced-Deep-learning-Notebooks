{
  "nbformat": 4,
  "nbformat_minor": 0,
  "metadata": {
    "colab": {
      "name": "ACGAN.ipynb",
      "provenance": [],
      "authorship_tag": "ABX9TyPz6IuWMO1aPdITBcuUUVb5",
      "include_colab_link": true
    },
    "kernelspec": {
      "name": "python3",
      "display_name": "Python 3"
    }
  },
  "cells": [
    {
      "cell_type": "markdown",
      "metadata": {
        "id": "view-in-github",
        "colab_type": "text"
      },
      "source": [
        "<a href=\"https://colab.research.google.com/github/hansong0219/Advanced-DeepLearning-Study/blob/master/improved_GAN/ACGAN.ipynb\" target=\"_parent\"><img src=\"https://colab.research.google.com/assets/colab-badge.svg\" alt=\"Open In Colab\"/></a>"
      ]
    },
    {
      "cell_type": "markdown",
      "metadata": {
        "id": "nY7C5OFdK_gr"
      },
      "source": [
        "# ACGAN \n",
        "\n",
        "**ACGAN(보조 분류 GAN)** 은 원리상 Conditional GAN 과 유사한 형태를 가진다. CGAN 의 경우, 판별기는 입력으로 이미지와 그 레이블을 받고 그 이미지가 진짜일 확률을 출력한다. 그러나 ACGAN 에서의 입력은 이미지이고 출력은 이미지가 진짜인지의 확률과 어떤 클래스인지를 동시에 출력하게 된다. \n",
        "\n",
        "기본적으로 CGAN 에서는 부가정보를 네트워크에 제공하지만, ACGAN에서는 이를 제공하지 않고 보조 클래스 디코더 네트워크(Axuiliary class decoder)를 이용하여 부가 정보를 재구성한다.\n",
        "\n",
        "ACGAN 에는 추가적으로 분류기의 손실함수가 주어지는데 진짜와 가짜 이미지를 추가적으로 분류하는 작업을 수행한다. \n",
        "또, 생성기의 손실함수에서도 판별기를 속이는 일 외에도 가짜이미지를 정확하게 분류했는지도 손실을 계산하게된다."
      ]
    },
    {
      "cell_type": "markdown",
      "metadata": {
        "id": "qL80CZ420JhV"
      },
      "source": [
        "#GPU 할당\n",
        "\n",
        "Colab 이 아닌 환경에서 아래의 코드를 통해 우선적으로 gpu를 할당해준다."
      ]
    },
    {
      "cell_type": "code",
      "metadata": {
        "id": "fEjGv1kcK8XO"
      },
      "source": [
        "import tensorflow as tf \n",
        "physical_devices =tf.config.experimental.list_physical_devices('GPU')\n",
        "tf.config.experimental.set_memory_growth(physical_devices[0],True)"
      ],
      "execution_count": null,
      "outputs": []
    },
    {
      "cell_type": "code",
      "metadata": {
        "id": "QsQp1mmL0JAs"
      },
      "source": [
        "from tensorflow.keras.layers import Activation, Dense, Input\n",
        "from tensorflow.keras.layers import Conv2D, Flatten\n",
        "from tensorflow.keras.layers import Reshape, Conv2DTranspose\n",
        "from tensorflow.keras.layers import LeakyReLU\n",
        "from tensorflow.keras.layers import BatchNormalization\n",
        "from tensorflow.keras.layers import concatenate\n",
        "from tensorflow.keras.models import Model\n",
        "from tensorflow.keras.optimizers import RMSprop\n",
        "\n",
        "from tensorflow.keras.datasets import mnist\n",
        "from tensorflow.keras.models import load_model\n",
        "from tensorflow.keras import backend as K\n",
        "\n",
        "import numpy as np\n",
        "import math\n",
        "import matplotlib.pyplot as plt"
      ],
      "execution_count": null,
      "outputs": []
    },
    {
      "cell_type": "markdown",
      "metadata": {
        "id": "7ni42k6A0Q8c"
      },
      "source": [
        "# 생성기 및 판별기 함수구성\n",
        "CGAN 의 코드를 기반으로 하여 구성한다. "
      ]
    },
    {
      "cell_type": "code",
      "metadata": {
        "id": "H0fH9oPN0bJ9"
      },
      "source": [
        "def discriminator(inputs, activation='sigmoid', num_labels=None, num_codes=None):\n",
        "  \"\"\"\n",
        "  판별기 모델구성 \n",
        "  가짜와 진짜를 판별하기 위한 LeakyReLU - Conv2D 로 구성된 스택이다.\n",
        "  이 네트워크는 BN 으로 수렴되지 않으므로, 사용하지 않는다.\n",
        "  \"\"\"\n",
        "\n",
        "  # 입력 인수\n",
        "  \"\"\"\n",
        "  inputs(layer) : 판별기의 입력 계층(이미지)\n",
        "  activation (string) : 출력 활성화 계층의 이름\n",
        "  num_labels (int): ACGAN 과 InfoGAN 에서의 원-핫 레이블의 차원\n",
        "  num_codes(int) : Q network as output\n",
        "  \"\"\"\n",
        "\n",
        "  #출력 인수 : Model: 판별기 모델\n",
        "\n",
        "  kernel_size = 5\n",
        "  layer_filters = [32, 64, 128, 256]\n",
        "\n",
        "  x = inputs\n",
        "  for filters in layer_filters:\n",
        "    # 첫 세 개의 합성곱 계층에서는 strides = 2 를 사용\n",
        "    # 마지막 한 계층은 strides = 1을 사용\n",
        "    \n",
        "    if filters == layer_filters[-1]:\n",
        "      strides = 1\n",
        "    else:\n",
        "      strides = 2\n",
        "\n",
        "    x = LeakyReLU(alpha=0.2)(x)\n",
        "    x = Conv2D(filters = filsters, kernel_size = kernel_size, strides=strides, padding='same')(x)\n",
        "\n",
        "  x = Flatten()(x)\n",
        "  outputs = Dense(1)(x)\n",
        "  if activation is not None:\n",
        "    outputs = Activation(activation)(outputs)\n",
        "\n",
        "  if num_labels:\n",
        "    # ACGAN 과 InfoGAN 에는 두번째 출력이 있음\n",
        "    # MNIST 에서 두 번째 출력은 10차원 원-핫 레이블 벡터로 구성됨\n",
        "\n",
        "    layer = Dense(layer_filters[-2])(x)\n",
        "    labels = Dense(num_labels)(layer)\n",
        "    labels - Activation('softmax',name='label')(labels)\n",
        "    if num_code is None:\n",
        "      outputs = [outputs, labels]\n",
        "\n",
        "    else:\n",
        "      #InfoGAN 에는 세 번쨰와 네 번째 출력이 있음\n",
        "      #세 번째 출력: x 가 주어졌을 때 첫번째 c 를 나타내는 1차원 연속 Q\n",
        "\n",
        "      code1 = Dense(1)(layer)\n",
        "      code1 = Activation('sigmoid', name='code1')(code1)\n",
        "\n",
        "      #네 번째 출력: x가 주어졌을 때 두 번째 c를 나타내는 1차원 연속 Q\n",
        "      code2 = Dense(1)(layer)\n",
        "      code2 = Activation('sigmoid',name='code2')(code2)\n",
        "\n",
        "      outputs = [outputs, labels, code1, code2]\n",
        "\n",
        "  elif num_codes is not None:\n",
        "    #z0_recon: z0 정규 분포를 재구성\n",
        "    z0_recon = Dense(num_codes)(x)\n",
        "    z0_recon = Activation('tanh', name='z0')(z0_recon)\n",
        "\n",
        "    outputs = [outputs, z0_recon]\n",
        "\n",
        "  return Model(inputs, outputs, name='discriminator')"
      ],
      "execution_count": 1,
      "outputs": []
    },
    {
      "cell_type": "code",
      "metadata": {
        "id": "SOc-oA4124Cp"
      },
      "source": [
        "def generator(inputs, image_size, activation='sigmoid', labels=None, codes=None):\n",
        "  "
      ],
      "execution_count": null,
      "outputs": []
    }
  ]
}