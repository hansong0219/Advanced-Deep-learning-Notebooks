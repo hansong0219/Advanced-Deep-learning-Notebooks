{
  "nbformat": 4,
  "nbformat_minor": 0,
  "metadata": {
    "colab": {
      "name": "Y_NetCNN",
      "provenance": [],
      "authorship_tag": "ABX9TyNDeRjMF4k5Z9xL+TiAHfHv",
      "include_colab_link": true
    },
    "kernelspec": {
      "name": "python3",
      "display_name": "Python 3"
    }
  },
  "cells": [
    {
      "cell_type": "markdown",
      "metadata": {
        "id": "view-in-github",
        "colab_type": "text"
      },
      "source": [
        "<a href=\"https://colab.research.google.com/github/hansong0219/Advanced-DeepLearning-Study/blob/master/CNN_based_Classification/Y_NetCNN.ipynb\" target=\"_parent\"><img src=\"https://colab.research.google.com/assets/colab-badge.svg\" alt=\"Open In Colab\"/></a>"
      ]
    },
    {
      "cell_type": "markdown",
      "metadata": {
        "id": "eeC95fC0WuaU"
      },
      "source": [
        "# Y - Network\n",
        "\n",
        "Y - Network 는 동일한 입력을 CNN 의 왼쪽과 오른쪽 가지에 두번 사용한다. \n",
        "신경망은 concatenate 계층을 사용하여 결과를 결합한다. \n",
        "결합 연산인 concate 연결축을 따라 동일한 형상을 갖는 두개의 텐서를 연결해 하나의 텐서를 구성하는 것과 비슷하다. \n",
        "\n",
        "우선 Y - Network 의 가지에서 필터수를 두배로 늘려 MaxPooling2D() 층 다음에서 특징 맵 크기가 절반으로 줄어든 것을 보완한다.\n",
        "또, 양쪽 가지의 커널 크기는 3으로 같지만 오른쪽 가지에서는 팽창률을 2로 적용한다. 크기가 3인 커널에 팽창률을 사용해 커널의 적용 범위를 \n",
        "증가 시키면, 이 CNN 모델에서 오른쪽 가지가 다양한 특징 맵을 학습시킬 수 있다는 것이다.\n",
        "\n",
        "여기에서 padding = 'same' 옵션을 사용해 팽창된 CNN을 사용할 때 텐서 차원이 음수가 되지 않게 만든다."
      ]
    },
    {
      "cell_type": "code",
      "metadata": {
        "id": "qwA6RyBtWm3V"
      },
      "source": [
        "import numpy as np\n",
        "\n",
        "from keras.layers import Dense, Dropout, Input\n",
        "from keras.layers import Conv2D, MaxPooling2D, Flatten\n",
        "from keras.models import Model\n",
        "from keras.datasets import mnist\n",
        "from keras.utils import to_categorical\n",
        "from keras.layers.merge import concatenate\n",
        "from keras.utils import plot_model"
      ],
      "execution_count": null,
      "outputs": []
    },
    {
      "cell_type": "code",
      "metadata": {
        "id": "UP_tQd5mW1Wo"
      },
      "source": [
        "(x_train, y_train),(x_test, y_test) = mnist.load_data()"
      ],
      "execution_count": null,
      "outputs": []
    },
    {
      "cell_type": "code",
      "metadata": {
        "id": "e1neuHfkW2PK"
      },
      "source": [
        "#레이블 수 계산\n",
        "num_labels = len(np.unique(y_train))\n",
        "\n",
        "#원-핫 벡터로 변환\n",
        "y_train = to_categorical(y_train)\n",
        "y_test = to_categorical(y_test)"
      ],
      "execution_count": null,
      "outputs": []
    },
    {
      "cell_type": "code",
      "metadata": {
        "id": "3JcbWoCfW4AG"
      },
      "source": [
        "#입력 이미지 Shape 재조정, 규격화\n",
        "image_size = x_train.shape[1]\n",
        "x_train = np.reshape(x_train,[-1,image_size,image_size,1])\n",
        "x_test = np.reshape(x_test,[-1,image_size,image_size,1])\n",
        "\n",
        "x_train = x_train.astype('float32')/255\n",
        "x_test = x_test.astype('float32')/255"
      ],
      "execution_count": null,
      "outputs": []
    },
    {
      "cell_type": "code",
      "metadata": {
        "id": "MzdoXmG4W5Xc"
      },
      "source": [
        "# 신경망 매개변수 입력\n",
        "input_shape = (image_size,image_size,1)\n",
        "batch_size =32\n",
        "kernel_size = 3\n",
        "n_filters = 32\n",
        "dropout = 0.4"
      ],
      "execution_count": null,
      "outputs": []
    },
    {
      "cell_type": "code",
      "metadata": {
        "id": "zbhCbmeoW6eZ"
      },
      "source": [
        "# Y-Network 왼쪽 가지 작성\n",
        "left_inputs = Input(shape=input_shape)\n",
        "filters = n_filters\n",
        "\n",
        "x = left_inputs\n",
        "\n",
        "#Conv2D - Dropout - MaxPoling2D 3계층 구성\n",
        "#계층이 지날 떄 마다 필터 개수를 두배로 증가시킴(32 - 64 - 128)\n",
        "for i in range(3):\n",
        "    x = Conv2D(filters=filters,\n",
        "              kernel_size=kernel_size,\n",
        "              padding='same',\n",
        "              activation='relu')(x)\n",
        "    \n",
        "    x = Dropout(dropout)(x)\n",
        "    x = MaxPooling2D()(x)\n",
        "    \n",
        "    filters *= 2"
      ],
      "execution_count": null,
      "outputs": []
    },
    {
      "cell_type": "code",
      "metadata": {
        "id": "Ny8fndX7W7qR"
      },
      "source": [
        "#Y-Network 오른쪽 가지 작성\n",
        "right_inputs = Input(shape=input_shape)\n",
        "filters = n_filters\n",
        "\n",
        "y = right_inputs\n",
        "\n",
        "#Conv2D - Dropout - MaxPoling2D 3계층 구성\n",
        "#계층이 지날 떄 마다 필터 개수를 두배로 증가시킴(32 - 64 - 128)\n",
        "for i in range(3):\n",
        "    y = Conv2D(filters=filters,\n",
        "              kernel_size=kernel_size,\n",
        "              padding='same',\n",
        "              activation='relu',\n",
        "              dilation_rate=2)(y)\n",
        "    \n",
        "    y = Dropout(dropout)(y)\n",
        "    y = MaxPooling2D()(y)\n",
        "    \n",
        "    filters *=2"
      ],
      "execution_count": null,
      "outputs": []
    },
    {
      "cell_type": "code",
      "metadata": {
        "id": "GAAoFsLvW9tk"
      },
      "source": [
        "# Y - Network 결합\n",
        "y = concatenate([x,y])\n",
        "\n",
        "# Dense 계층에 연결하기 전 특징 맵을 벡터로 변환\n",
        "y = Flatten()(y)\n",
        "y = Dropout(dropout)(y)\n",
        "outputs = Dense(num_labels, activation='softmax')(y)\n",
        "\n",
        "model = Model([left_inputs, right_inputs], outputs)\n",
        "plot_model(model, to_file = 'cnn-y-network.png', show_shapes=True)"
      ],
      "execution_count": null,
      "outputs": []
    },
    {
      "cell_type": "code",
      "metadata": {
        "id": "7Pu1gqSHW_e8"
      },
      "source": [
        "model.summary()"
      ],
      "execution_count": null,
      "outputs": []
    },
    {
      "cell_type": "code",
      "metadata": {
        "id": "IuOgoW2LXA8k"
      },
      "source": [
        "#모델 컴파일\n",
        "model.compile(loss='categorical_crossentropy', optimizer='adam', metrics=['accuracy'])"
      ],
      "execution_count": null,
      "outputs": []
    },
    {
      "cell_type": "code",
      "metadata": {
        "id": "yrB7n3DJXCX8"
      },
      "source": [
        "model.fit([x_train, x_train], y_train, validation_data=([x_test, x_test], y_test), epochs=20, batch_size=batch_size)"
      ],
      "execution_count": null,
      "outputs": []
    }
  ]
}