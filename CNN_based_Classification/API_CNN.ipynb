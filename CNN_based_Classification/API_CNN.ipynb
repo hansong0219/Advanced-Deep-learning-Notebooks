{
  "nbformat": 4,
  "nbformat_minor": 0,
  "metadata": {
    "colab": {
      "name": "API_CNN.ipynb",
      "provenance": [],
      "authorship_tag": "ABX9TyO67ddcrnCBh73KG3LnfR4w",
      "include_colab_link": true
    },
    "kernelspec": {
      "name": "python3",
      "display_name": "Python 3"
    }
  },
  "cells": [
    {
      "cell_type": "markdown",
      "metadata": {
        "id": "view-in-github",
        "colab_type": "text"
      },
      "source": [
        "<a href=\"https://colab.research.google.com/github/hansong0219/Advanced-DeepLearning-Study/blob/master/CNN_based_Classification/API_CNN.ipynb\" target=\"_parent\"><img src=\"https://colab.research.google.com/assets/colab-badge.svg\" alt=\"Open In Colab\"/></a>"
      ]
    },
    {
      "cell_type": "markdown",
      "metadata": {
        "id": "zr65css-Udsw"
      },
      "source": [
        "# 기본 모델의 함수형 작성\n",
        "\n",
        "함수형 API 는 순차형 모델로는 구축할 수 없는 더 복잡한 신경망을 구축할 수 있게 해준다.\n",
        "\n",
        "순차형 모델은 그래프 같은 모델이나 파이썬 함수처럼 동작하는 모델을 지원하지 않으며, 최종 계층 전에 보조 출력을 추출해야 할때, 이를 해결할 간단한 방법이 없다는 한계가 있다. 게다가 두 모델 사이에 계층을 공유하기도 어렵다. 하지만 이러한 한계는 함수형 API 를 통해 해결할 수 있다.\n",
        "\n",
        "우선 간단한 mnist data set 의 함수형 모델에 대해서는 아래와 같이 작성한다."
      ]
    },
    {
      "cell_type": "code",
      "metadata": {
        "id": "fvvJvzJ-UP0I"
      },
      "source": [
        "import numpy as np\n",
        "from keras.layers import Dense, Dropout, Input\n",
        "from keras.layers import Conv2D, MaxPooling2D, Flatten\n",
        "from keras.models import Model\n",
        "from keras.datasets import mnist\n",
        "from keras.utils import to_categorical"
      ],
      "execution_count": null,
      "outputs": []
    },
    {
      "cell_type": "code",
      "metadata": {
        "id": "jbXnJcKfUkb7"
      },
      "source": [
        "(x_train, y_train),(x_test, y_test) = mnist.load_data()\n",
        "num_labels = len(np.unique(y_train))"
      ],
      "execution_count": null,
      "outputs": []
    },
    {
      "cell_type": "code",
      "metadata": {
        "id": "CsZq7VxpUlDB"
      },
      "source": [
        "y_train = to_categorical(y_train)\n",
        "y_test = to_categorical(y_test)"
      ],
      "execution_count": null,
      "outputs": []
    },
    {
      "cell_type": "code",
      "metadata": {
        "id": "rqZIrQauUm5k"
      },
      "source": [
        "image_size = x_train.shape[1]\n",
        "x_train = np.reshape(x_train,[-1,image_size,image_size,1])\n",
        "x_test = np.reshape(x_test,[-1,image_size,image_size,1])\n",
        "\n",
        "x_train = x_train.astype('float32')/255\n",
        "x_test = x_test.astype('float32')/255"
      ],
      "execution_count": null,
      "outputs": []
    },
    {
      "cell_type": "code",
      "metadata": {
        "id": "VWcdIrdeUmyT"
      },
      "source": [
        "input_shape = (image_size,image_size,1)\n",
        "batch_size =128\n",
        "kernel_size = 3\n",
        "filters = 64\n",
        "dropout = 0.3"
      ],
      "execution_count": null,
      "outputs": []
    },
    {
      "cell_type": "code",
      "metadata": {
        "id": "09G-pSfbUoMY"
      },
      "source": [
        "inputs = Input(shape = input_shape)\n",
        "y = Conv2D(filters=filters, kernel_size = kernel_size, activation='relu')(inputs)\n",
        "y = MaxPooling2D()(y)\n",
        "y = Conv2D(filters=filters, kernel_size = kernel_size, activation='relu')(y)\n",
        "y = MaxPooling2D()(y)\n",
        "y = Conv2D(filters=filters, kernel_size = kernel_size, activation='relu')(y)\n",
        "y = Flatten()(y)\n",
        "y = Dropout(dropout)(y)\n",
        "outputs = Dense(num_labels, activation='softmax')(y)\n",
        "\n",
        "model = Model(inputs=inputs, outputs=outputs)\n",
        "\n",
        "model.summary()"
      ],
      "execution_count": null,
      "outputs": []
    },
    {
      "cell_type": "code",
      "metadata": {
        "id": "xg3txmAsUpU4"
      },
      "source": [
        "model.fit(x_train, y_train,validation_data=(x_test,y_test),epochs=20,batch_size=batch_size)"
      ],
      "execution_count": null,
      "outputs": []
    }
  ]
}