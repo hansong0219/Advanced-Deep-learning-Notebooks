{
  "nbformat": 4,
  "nbformat_minor": 0,
  "metadata": {
    "colab": {
      "name": "CycleGAN-ResNet.ipynb",
      "provenance": [],
      "authorship_tag": "ABX9TyMIAzT5/r+rqv3wLSKC1iml",
      "include_colab_link": true
    },
    "kernelspec": {
      "name": "python3",
      "display_name": "Python 3"
    }
  },
  "cells": [
    {
      "cell_type": "markdown",
      "metadata": {
        "id": "view-in-github",
        "colab_type": "text"
      },
      "source": [
        "<a href=\"https://colab.research.google.com/github/hansong0219/Advanced-Deep-learning-Notebooks/blob/master/Cross-Domain/CycleGAN_ResNet.ipynb\" target=\"_parent\"><img src=\"https://colab.research.google.com/assets/colab-badge.svg\" alt=\"Open In Colab\"/></a>"
      ]
    },
    {
      "cell_type": "markdown",
      "metadata": {
        "id": "OrgLgGGhyTEM"
      },
      "source": [
        "# ResNet 생성자를 이용한 Cycle GAN 모델 \n",
        "\n",
        "ResNet 구조는 이전 층의 전보를 네트워 앞쪽에 한개 이상의 층으로 스킵한다는 부분에서 U-Net 과 비슷하나, U-Net 은 다운샘플링 층을 이에 상응하는 업샘플링 층으로 연결하여 U 모양을 구성하는 대신 ResNet은 Residual block 을 차례대로 쌓아 구성하게된다. \n",
        "\n",
        "각 블록은 다음의 층으로 출력을 전달하기 전에 입력과 출력을 합하는 스킵 연결층을 가지고 있다.\n",
        "\n",
        "ResNet  구조는 수백 또는 수천개의 층도 훈련할 수 있는데 앞쪽에 층에 도달하는 그레디언트가 매우 작아져 매우 느리게 훈련되는 vanishing gradient 문제가 없고,Error gradient 가 Residual Block 의 스킵 연결을 통해 네트워크에 그대로 역전파 되기 때문이다. 또, 층을 추가해도 모델의 정확도를 떨어뜨리지 않는데 추가적인 특성이 추출되지 않는다면, 스킵연결로 인해 언제든지 이전 층의 특성이 identify mapping 을 통과하기 때문이다.\n",
        "\n",
        "본 Notebook 에서는 Residual block 을 사용한 생성자를 구성하여 Image Style Transfer 를 수행할 예정이다."
      ]
    },
    {
      "cell_type": "code",
      "metadata": {
        "id": "Dje1KlSYj56a"
      },
      "source": [
        "import numpy as np\n",
        "import os\n",
        "import sys\n",
        "from tensorflow.keras.layers import Input, Dropout, concatenate, add, Layer\n",
        "from tensorflow.keras.layers import Conv2DTranspose, Conv2D \n",
        "from tensorflow.keras.models import Sequential, Model\n",
        "from tensorflow.keras.layers import LeakyReLU, Activation\n",
        "from tensorflow.keras.layers import BatchNormalization\n",
        "from tensorflow_addons.layers import InstanceNormalization\n",
        "from tensorflow.keras.optimizers import Adam, RMSprop\n",
        "from tensorflow.keras.utils import plot_model\n",
        "from tensorflow.keras.losses import BinaryCrossentropy\n",
        "import matplotlib.pyplot as plt\n",
        "import tensorflow as tf\n",
        "from tensorflow import keras\n",
        "\n",
        "import cv2\n",
        "import math\n",
        "import datetime"
      ],
      "execution_count": 6,
      "outputs": []
    },
    {
      "cell_type": "markdown",
      "metadata": {
        "id": "P46g6-NzzYHd"
      },
      "source": [
        "# GPU 할당"
      ]
    },
    {
      "cell_type": "code",
      "metadata": {
        "id": "UNDhgjQDzY6h"
      },
      "source": [
        "import tensorflow as tf \n",
        "physical_devices =tf.config.experimental.list_physical_devices('GPU')\n",
        "tf.config.experimental.set_memory_growth(physical_devices[0],True)"
      ],
      "execution_count": null,
      "outputs": []
    },
    {
      "cell_type": "markdown",
      "metadata": {
        "id": "YxTYa37605u5"
      },
      "source": [
        "# 유틸 함수 정의\n"
      ]
    },
    {
      "cell_type": "markdown",
      "metadata": {
        "id": "BmBOzCVFcrFV"
      },
      "source": [
        "### 이미지 및 데이터 재구성 유틸"
      ]
    },
    {
      "cell_type": "code",
      "metadata": {
        "id": "Wpm_sVhf08eT"
      },
      "source": [
        "def display_images(imgs, filename, title='', imgs_dir=None, show=False):\n",
        "  \n",
        "    #이미지를 nxn 으로 나타냄\n",
        "    rows = imgs.shape[1]\n",
        "    cols = imgs.shape[2]\n",
        "    channels = imgs.shape[3]\n",
        "    side = int(math.sqrt(imgs.shape[0]))\n",
        "    assert int(side * side) == imgs.shape[0]\n",
        "\n",
        "    # 이미지 저장을 위한 폴더를 만듦\n",
        "    if imgs_dir is None:\n",
        "        imgs_dir = 'saved_images'\n",
        "    save_dir = os.path.join(os.getcwd(), imgs_dir)\n",
        "    if not os.path.isdir(save_dir):\n",
        "        os.makedirs(save_dir)\n",
        "    filename = os.path.join(imgs_dir, filename)\n",
        "    # 이미지의 shape 을 지정\n",
        "    if channels==1:\n",
        "        imgs = imgs.reshape((side, side, rows, cols))\n",
        "    else:\n",
        "        imgs = imgs.reshape((side, side, rows, cols, channels))\n",
        "    imgs = np.vstack([np.hstack(i) for i in imgs])\n",
        "    plt.figure()\n",
        "    plt.axis('off')\n",
        "    plt.title(title)\n",
        "    if channels==1:\n",
        "        plt.imshow(imgs, interpolation='none', cmap='gray')\n",
        "    else:\n",
        "        plt.imshow(imgs, interpolation='none')\n",
        "    plt.savefig(filename)\n",
        "    if show:\n",
        "        plt.show()\n",
        "    \n",
        "    plt.close('all')\n",
        "\n",
        "\n",
        "def test_generator(generators, test_data, step, titles, dirs, todisplay=100, show=False):\n",
        "    # generator 모델을 테스트함\n",
        "    # 입력 인수\n",
        "    \"\"\"\n",
        "    generators (tuple): 소스와 타겟 생성기\n",
        "    test_data (tuple): 소스와 타겟 데이터\n",
        "    step (int): 진행 단계\n",
        "    titles (tuple): 표시 이미지의 타이틀\n",
        "    dirs (tuple): 이미지 저장 폴더\n",
        "    todisplay (int): 저장이미지의 수 (정사각형 형태로 생성되어야 한다.)\n",
        "    show (bool): 이미지 표시 여부\n",
        "    \"\"\"\n",
        "\n",
        "    # test data 로 부터 output 예측\n",
        "    g_source, g_target = generators\n",
        "    test_source_data, test_target_data = test_data\n",
        "    t1, t2, t3, t4 = titles\n",
        "    title_pred_source = t1\n",
        "    title_pred_target = t2\n",
        "    title_reco_source = t3\n",
        "    title_reco_target = t4\n",
        "    dir_pred_source, dir_pred_target = dirs\n",
        "\n",
        "    pred_target_data = g_target.predict(test_source_data)\n",
        "    pred_source_data = g_source.predict(test_target_data)\n",
        "    reco_source_data = g_source.predict(pred_target_data)\n",
        "    reco_target_data = g_target.predict(pred_source_data)\n",
        "\n",
        "    # 정사각형 형태의 하나의 이미지로 나타냄\n",
        "    imgs = pred_target_data[:todisplay]\n",
        "    filename = '%06d.png' % step\n",
        "    step = \" Step: {:,}\".format(step)\n",
        "    title = title_pred_target + step\n",
        "    display_images(imgs,\n",
        "                   filename=filename,\n",
        "                   imgs_dir=dir_pred_target,\n",
        "                   title=title,\n",
        "                   show=show)\n",
        "\n",
        "    imgs = pred_source_data[:todisplay]\n",
        "    title = title_pred_source\n",
        "    display_images(imgs,\n",
        "                   filename=filename,\n",
        "                   imgs_dir=dir_pred_source,\n",
        "                   title=title,\n",
        "                   show=show)\n",
        "\n",
        "    imgs = reco_source_data[:todisplay]\n",
        "    title = title_reco_source\n",
        "    filename = \"reconstructed_source.png\"\n",
        "    display_images(imgs,\n",
        "                   filename=filename,\n",
        "                   imgs_dir=dir_pred_source,\n",
        "                   title=title,\n",
        "                   show=show)\n",
        "\n",
        "    imgs = reco_target_data[:todisplay]\n",
        "    title = title_reco_target\n",
        "    filename = \"reconstructed_target.png\"\n",
        "    display_images(imgs,\n",
        "                   filename=filename,\n",
        "                   imgs_dir=dir_pred_target,\n",
        "                   title=title,\n",
        "                   show=show)\n",
        "\n",
        "\n",
        "def loaded_data(data, titles, filenames, todisplay=100):\n",
        "    source_data, target_data, test_source_data, test_target_data = data\n",
        "    test_source_filename, test_target_filename = filenames\n",
        "    test_source_title, test_target_title = titles\n",
        "\n",
        "    # 테스트 타겟 이미지 표시\n",
        "    imgs = test_target_data[:todisplay]\n",
        "    display_images(imgs,\n",
        "                   filename=test_target_filename,\n",
        "                   title=test_target_title)\n",
        "\n",
        "    # 테스트 소스이미지 표시\n",
        "    imgs = test_source_data[:todisplay]\n",
        "    display_images(imgs,\n",
        "                   filename=test_source_filename,\n",
        "                   title=test_source_title)\n",
        "\n",
        "    # 이미지 표시 정리\n",
        "    target_data = target_data.astype('float32')  / 255\n",
        "    test_target_data = test_target_data.astype('float32') / 255\n",
        "\n",
        "    source_data = source_data.astype('float32')  / 255\n",
        "    test_source_data = test_source_data.astype('float32') / 255\n",
        "\n",
        "    # 소스, 타겟, 테스트 데이터\n",
        "    data = (source_data, target_data, test_source_data, test_target_data)\n",
        "\n",
        "    rows = source_data.shape[1]\n",
        "    cols = source_data.shape[2]\n",
        "    channels = source_data.shape[3]\n",
        "    source_shape = (rows, cols, channels)\n",
        "\n",
        "    rows = target_data.shape[1]\n",
        "    cols = target_data.shape[2]\n",
        "    channels = target_data.shape[3]\n",
        "    target_shape = (rows, cols, channels)\n",
        "\n",
        "    shapes = (source_shape, target_shape)\n",
        "    \n",
        "    return data, shapes"
      ],
      "execution_count": 3,
      "outputs": []
    },
    {
      "cell_type": "markdown",
      "metadata": {
        "id": "4kEAyg-Acfvz"
      },
      "source": [
        "### 데이터 불러오기 유틸"
      ]
    },
    {
      "cell_type": "markdown",
      "metadata": {
        "id": "AFA5vFkm08K-"
      },
      "source": [
        "# 모델 구성"
      ]
    },
    {
      "cell_type": "markdown",
      "metadata": {
        "id": "e3dUobX5Z7Pe"
      },
      "source": [
        "### ReflectionPadding2D\n",
        "\n",
        "CycleGAN 논문 및 Source 를 통해 ResNet 생성기의 Layer 구조에서 Reflection Padding을 사용하는 것이 ZerosPadding을 사용하는 Conv2D의 padding=same 조건에 비해 권장 되었다. 따라서 ResNet 생성기에는 ReflectionPadding2D의 Class를 지정하여 사용한다."
      ]
    },
    {
      "cell_type": "code",
      "metadata": {
        "id": "Y_cEFPbNNM1c"
      },
      "source": [
        "class ReflectionPadding2D(Layer):\n",
        "    # ReflectionPadding Layer 를 실행할 수 있도록 구성된 class\n",
        "    \n",
        "    # 입력인수\n",
        "    \"\"\"\n",
        "    padding(tuple): padding을 위한 특정 차원의 크기로 지정된다. \n",
        "    \"\"\"\n",
        "    # 출력 : padding 이 실행된 텐서를 출력한다.\n",
        "\n",
        "    def __init__(self, padding=(1, 1), **kwargs):\n",
        "        self.padding = tuple(padding)\n",
        "        super(ReflectionPadding2D, self).__init__(**kwargs)\n",
        "\n",
        "    def call(self, input_tensor, mask=None):\n",
        "        padding_width, padding_height = self.padding\n",
        "        padding_tensor = [\n",
        "            [0, 0],\n",
        "            [padding_height, padding_height],\n",
        "            [padding_width, padding_width],\n",
        "            [0, 0],\n",
        "        ]\n",
        "        return tf.pad(input_tensor, padding_tensor, mode=\"REFLECT\")"
      ],
      "execution_count": 7,
      "outputs": []
    },
    {
      "cell_type": "markdown",
      "metadata": {
        "id": "aKqLYhCv1AaX"
      },
      "source": [
        "# 모델 Build 함수 정의"
      ]
    },
    {
      "cell_type": "markdown",
      "metadata": {
        "id": "oLpCGf36dcgw"
      },
      "source": [
        "### 모델 구성층 구성 함수\n",
        "ResNet 을 생성자로 하는 Cycle GAN 의 구성요소는 크게 3가지로 분류할 수 있다. \n",
        "\n",
        "1. 생성자와 판별자의 encoder(downsampling) layer\n",
        "2. 생성자의 Residual Block Unit\n",
        "3. 생성자의 decoder(upsampling) layer"
      ]
    },
    {
      "cell_type": "code",
      "metadata": {
        "id": "RskIW2RndhQH"
      },
      "source": [
        "def encoder_layer(inputs, filters=16, kernel_size=3, strides = 2,  activation='relu', instance_norm=True):\n",
        "  #Conv2D -IN - ReLU(LeakyReLU) 의 인코더 층을 구성한다.\n",
        "  kernel_init = keras.initializers.RandomNormal(mean=0.0, stddev=0.02)\n",
        "\n",
        "  x = inputs\n",
        "  x = Conv2D(filters, kernel_size=kernel_size, strides=strides,kernel_initializer=kernel_init, padding = 'same')(x)\n",
        "  if instance_norm:\n",
        "    x = InstanceNormalization()(x)\n",
        "\n",
        "  if activation=='relu':\n",
        "    x = Activation(activation)(x)\n",
        "  else:\n",
        "    x = LeakyReLU(alpha=0.2)(x)\n",
        "\n",
        "  return x\n",
        "\n",
        "def decoder_layer(inputs, filters=16, kernel_size=3, strides=2, activation='relu', instance_norm = True):\n",
        "  #Conv2DTranspose-IN-LeakyReLU로 구성된 디코더 계층구성, 활성화 함수는 ReLU 로 교체될 수 있음\n",
        "  kernel_init = keras.initializers.RandomNormal(mean=0.0, stddev=0.02)\n",
        "\n",
        "  x = inputs\n",
        "  x = Conv2DTranspose(filters, kernel_size=kernel_size, strides=strides, kernel_initializer = kernel_init, padding='same')(x)\n",
        "  if instance_norm:\n",
        "    x = InstanceNormalization()(x)\n",
        "  \n",
        "  if activation=='relu':\n",
        "    x = Activation(activation)(x)\n",
        "  else:\n",
        "    x = LeakyReLU(alpha=0.2)(x)\n",
        "\n",
        "  return x\n",
        "\n",
        "def residual_block(inputs, filters=64, kernel_size=3, resblock=2):\n",
        "  # shorcut 연결 구현한 Residual Block\n",
        "  kernel_init = keras.initializers.RandomNormal(mean=0.0, stddev=0.02)\n",
        "  shortcut = inputs\n",
        "\n",
        "  for num_unit in range(resblock):\n",
        "    if num_unit == 0:\n",
        "      x = ReflectionPadding2D(padding=(1,1))(inputs)\n",
        "    else:\n",
        "      x = ReflectionPadding2D(padding=(1,1))(x)\n",
        "    \n",
        "    x = Conv2D(filters, kernel_size=kernel_size, strides=1, padding='valid', kernel_initializer=kernel_init)(x)\n",
        "    x = InstanceNormalization()(x)\n",
        "\n",
        "    if num_unit != resblock-1:\n",
        "      x = Activation('relu')(x)\n",
        " \n",
        "  return add([shortcut, x])"
      ],
      "execution_count": 35,
      "outputs": []
    },
    {
      "cell_type": "markdown",
      "metadata": {
        "id": "j2QipE2PuVus"
      },
      "source": [
        "### 생성기 Build 함수 구현"
      ]
    },
    {
      "cell_type": "code",
      "metadata": {
        "id": "xjjsn-FJ1CZv"
      },
      "source": [
        "# 생성기 Build 함수\n",
        "def build_generator_resnet(input_shape, output_shape=None, filters=64, num_encoders=2, num_residual_blocks=9, num_decoders =2, name=None):\n",
        "  inputs = Input(shape=input_shape)\n",
        "  channels = int(output_shape[-1])\n",
        "  kernel_init = keras.initializers.RandomNormal(mean=0.0, stddev=0.02)\n",
        "\n",
        "  x = ReflectionPadding2D(padding=(3, 3))(inputs)\n",
        "  x = Conv2D(filters, kernel_size=7, strides=1, padding='valid', kernel_initializer = kernel_init, use_bias=False)(x)\n",
        "  x = InstanceNormalization()(x)\n",
        "  x = Activation('relu')(x)\n",
        "\n",
        "  #DownSampling\n",
        "  for _ in range(num_encoders):\n",
        "    filters *=2\n",
        "    x = encoder_layer(x, filters=filters)\n",
        "  \n",
        "  #Residual Block 층 구성\n",
        "  for _ in range(num_residual_blocks):\n",
        "    x = residual_block(x, filters=filters)\n",
        "\n",
        "  #UpSampling\n",
        "  for _ in range(num_decoders):\n",
        "    filters//=2\n",
        "    x = decoder_layer(x, filters=filters)\n",
        "\n",
        "  #Final Block\n",
        "  x = ReflectionPadding2D(padding=(3, 3))(x)\n",
        "  x = Conv2D(3, (7, 7), padding=\"valid\")(x)\n",
        "  x = Activation(\"tanh\")(x)\n",
        "\n",
        "  return Model(inputs, x, name=name)"
      ],
      "execution_count": 36,
      "outputs": []
    },
    {
      "cell_type": "markdown",
      "metadata": {
        "id": "t_EjktEJvGxW"
      },
      "source": [
        "### 판별자 Build 함수 (Patch GAN)"
      ]
    },
    {
      "cell_type": "code",
      "metadata": {
        "id": "irb7UBFCsCK1"
      },
      "source": [
        "def build_discriminator(input_shape, filters=64, kernel_size=3, patchgan=True, name=None)"
      ],
      "execution_count": 37,
      "outputs": []
    },
    {
      "cell_type": "code",
      "metadata": {
        "id": "aSj01gLqtNyd"
      },
      "source": [
        ""
      ],
      "execution_count": null,
      "outputs": []
    },
    {
      "cell_type": "code",
      "metadata": {
        "id": "0wd2EXD7eIxr"
      },
      "source": [
        "#model_fine tuning 변수\n",
        "\n",
        "\n"
      ],
      "execution_count": null,
      "outputs": []
    }
  ]
}