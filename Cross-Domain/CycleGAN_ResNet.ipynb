{
  "nbformat": 4,
  "nbformat_minor": 0,
  "metadata": {
    "colab": {
      "name": "CycleGAN-ResNet.ipynb",
      "provenance": [],
      "authorship_tag": "ABX9TyPv0p/eWvaiQN5lLb1Zeivk",
      "include_colab_link": true
    },
    "kernelspec": {
      "name": "python3",
      "display_name": "Python 3"
    }
  },
  "cells": [
    {
      "cell_type": "markdown",
      "metadata": {
        "id": "view-in-github",
        "colab_type": "text"
      },
      "source": [
        "<a href=\"https://colab.research.google.com/github/hansong0219/Advanced-Deep-learning-Notebooks/blob/master/Cross-Domain/CycleGAN_ResNet.ipynb\" target=\"_parent\"><img src=\"https://colab.research.google.com/assets/colab-badge.svg\" alt=\"Open In Colab\"/></a>"
      ]
    },
    {
      "cell_type": "code",
      "metadata": {
        "id": "Dje1KlSYj56a"
      },
      "source": [
        ""
      ],
      "execution_count": null,
      "outputs": []
    },
    {
      "cell_type": "markdown",
      "metadata": {
        "id": "e3dUobX5Z7Pe"
      },
      "source": [
        "# ReflectionPadding2D\n",
        "\n",
        "CycleGAN 논문 및 Source 를 통해 ResNet 생성기의 Layer 구조에서 Reflection Padding을 사용하는 것이 ZerosPadding을 사용하는 Conv2D의 padding=same 조건에 비해 권장 되었다. 따라서 ResNet 생성기에는 ReflectionPadding2D의 Class를 지정하여 사용한다."
      ]
    },
    {
      "cell_type": "code",
      "metadata": {
        "id": "Y_cEFPbNNM1c"
      },
      "source": [
        "class ReflectionPadding2D(layers.Layer):\n",
        "    # ReflectionPadding Layer 를 실행할 수 있도록 구성된 class\n",
        "    \n",
        "    # 입력인수\n",
        "    \"\"\"\n",
        "    padding(tuple): padding을 위한 특정 차원의 크기로 지정된다. \n",
        "    \"\"\"\n",
        "    # 출력 : padding 이 실행된 텐서를 출력한다.\n",
        "\n",
        "    def __init__(self, padding=(1, 1), **kwargs):\n",
        "        self.padding = tuple(padding)\n",
        "        super(ReflectionPadding2D, self).__init__(**kwargs)\n",
        "\n",
        "    def call(self, input_tensor, mask=None):\n",
        "        padding_width, padding_height = self.padding\n",
        "        padding_tensor = [\n",
        "            [0, 0],\n",
        "            [padding_height, padding_height],\n",
        "            [padding_width, padding_width],\n",
        "            [0, 0],\n",
        "        ]\n",
        "        return tf.pad(input_tensor, padding_tensor, mode=\"REFLECT\")"
      ],
      "execution_count": null,
      "outputs": []
    }
  ]
}