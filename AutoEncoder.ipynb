{
  "nbformat": 4,
  "nbformat_minor": 0,
  "metadata": {
    "colab": {
      "name": "AutoEncoder.ipynb",
      "provenance": [],
      "authorship_tag": "ABX9TyMCptW5UnTPK7suYFEKMI9g",
      "include_colab_link": true
    },
    "kernelspec": {
      "name": "python3",
      "display_name": "Python 3"
    }
  },
  "cells": [
    {
      "cell_type": "markdown",
      "metadata": {
        "id": "view-in-github",
        "colab_type": "text"
      },
      "source": [
        "<a href=\"https://colab.research.google.com/github/hansong0219/Advanced-DeepLearning-Study/blob/master/AutoEncoder.ipynb\" target=\"_parent\"><img src=\"https://colab.research.google.com/assets/colab-badge.svg\" alt=\"Open In Colab\"/></a>"
      ]
    },
    {
      "cell_type": "markdown",
      "metadata": {
        "id": "OCzDXFOJCzJf",
        "colab_type": "text"
      },
      "source": [
        ""
      ]
    },
    {
      "cell_type": "markdown",
      "metadata": {
        "id": "xl4YNVMsD4_Y",
        "colab_type": "text"
      },
      "source": [
        "오토인코더\n",
        "------------"
      ]
    },
    {
      "cell_type": "markdown",
      "metadata": {
        "id": "aS7LRfHGC2jW",
        "colab_type": "text"
      },
      "source": [
        "오토인코더는 주어진 입력 데이터의 압축 표현을 찾기 위한 심층 신경망 구조이다.\n",
        "오토인코더는 사람이 레이블을 직접 달지 않아도 데이터만 가지고 코드를 자동으로 학습하기 때문에 비지도 학습 알고리즘으로 분류된다. \n",
        "\n",
        "오토인코더의 역할은 입력 분포를 벡터형태를 띠는 저차원의 텐서로 인코딩하고 잠재 표현이나, 코드로 불리는 숨겨진 구조로 근사화 한다. 그런다음 이러한 잠재벡터를 원본 입력을 복원하기 위해 디코더를 통해 디코딩 한다.\n",
        "이런 이유에서 입력 데이터와 출력 데이터의 차이를 손실함수로 근사화한다. \n",
        "\n",
        "아래는 MNIST 데이터의 오토인코더의 예시이다."
      ]
    },
    {
      "cell_type": "code",
      "metadata": {
        "id": "Kklj2vOu5moP",
        "colab_type": "code",
        "colab": {}
      },
      "source": [
        "from keras.layers import Dense, input\n",
        "from keras.layers"
      ],
      "execution_count": null,
      "outputs": []
    }
  ]
}